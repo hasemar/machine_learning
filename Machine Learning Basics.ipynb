{
 "cells": [
  {
   "cell_type": "markdown",
   "metadata": {},
   "source": [
    "# Machine Learning Basics\n",
    "-------------\n",
    "## What is machine learning?\n",
    "\n",
    "Machine learning is a specific approach to artificial intelligence, that algorithmically applies statistical methods that are iterated over data, to learn specific tasks without being explicitly programmed to do so. In other words, a machine learning algorithm, is a *strategy* that gives a machine the ability to learn from data. \n",
    "\n",
    "The type of algorithm used depends the task that is to be completed.\n",
    "\n",
    "---------------\n",
    "### Tasks:\n",
    "A task is the end-goal, or objective, that we want our machine to carry out. **It is not the learning process itself.** Some general tasks that a machine algorithm can be trained to carry out are:\n",
    "\n",
    "* **Classification**\n",
    "    * These types of tasks use algorithms that find relationships among input data and catagorize it. Image recognition, spam filters, and medical diagnosis are common applications.\n",
    "* **Regression**\n",
    "    * Some tasks require a numerical value output as a prediction, based on a set of data. There are several regression methods available for this, from Kernal regression, Gaussian process regression, to simple linear regression. Regression methods are used in finance, biology, engineering and many other fields. \n",
    "* **Clustering**\n",
    "    * Clustering methods search for natural groupings within a dataset that may or maynot be readily observable otherwise. Sometimes clustering is used to learn about the dataset itself and separate out features in unlabeled data.\n",
    "* **Transcription**\n",
    "    * Sometimes it is necessary to turn an input into something that is more useful to machines or humans. Handwriting recognition, language translation are all examples of this. Deep learning applications can be used to accomplish these tasks.  \n",
    "* **Anomaly detection**\n",
    "    * Very common in manufacturing and fruad detection. Machine learning methods can be utilized to detect outliers, or abnormal patterns within a data stream. \n",
    "    \n",
    "The tasks machine learning can accomplish are far more than can be listed here, and is ever growing with the continual rise in computational power and more sophisticated analysis methods.\n",
    "\n",
    "** Below, is a general diagram to help select the appropriate algorithm for a specific task. **"
   ]
  },
  {
   "cell_type": "markdown",
   "metadata": {},
   "source": [
    "<img src =\"http://scikit-learn.org/stable/_static/ml_map.png\" alt = \"scikit learn cheat sheet\" />"
   ]
  },
  {
   "cell_type": "markdown",
   "metadata": {},
   "source": [
    "--------------------\n",
    "\n",
    "### Training:\n",
    "Once a machine learning algorithm has been selected, it must to be ***trained*** to the type of data it will encounter. \n",
    "\n",
    "This is where the *learning* happens. There are two main times of learning processes.\n",
    "\n",
    "#### Supervised\n",
    "Supervised learning involves inputing data with known outomes (data with labels). Durring the training, the algorithm produces and constantly adjusts a function to make predictions on future data with unknown outomes. The attribute of a data set that is to be predicted is known as the **target**. \n",
    "\n",
    "Simply, a supervised algorithm first looks an a dataset \"with all the answers\" and uses it to build a model to predict answers for new incomming data.\n",
    "\n",
    "#### Unsupervised\n",
    "Conversely, an unsupervised algorithm trains from data that is unlabeled or unclassified. It learns from the structure of the dataset and draws inferences. Unsupervised algorithms are commonly used to cluster data within a set to find similarites that were otherwise hidden, and to find anomalies withing a dataset.\n",
    "\n",
    "----------------------"
   ]
  },
  {
   "cell_type": "markdown",
   "metadata": {},
   "source": [
    "### Performance:\n",
    "%%latex\n",
    "\n",
    "A trained machine learning model must be evaluated based on quantitative performance measures. Engineers and data scientists are often interested *how* the model is correct or incorrect in it's predictions. \n",
    "\n",
    "#### Classifier models\n",
    "In the case of classifier models, tt is sometimes usefull to know if a model has predicted true, when it was actually false, predicted false when it was actually true. To see this all at once a **confusion matrix** can be produced.\n",
    "\n",
    "|                   | Predicted Value = no          | Predicted value = yes        |\n",
    "| ----------------- | :---------------------------: | :--------------------------: | \n",
    "|**Actual Value = no**  |  true negative(TN)                | false positive (FP)|\n",
    "|**Actual Value = Yes** | false negative (FN)| true positive (TP)               |\n",
    "\n",
    "The false positive, and false negative values are often called **Type I error** and **Type II error**, respectively.\n",
    "\n",
    "From this matrix we can compute several performace measures for our model.\n",
    "\n",
    "* **Accuracy: ** How often was our model correct?\n",
    "    * $\\frac{TP+TN}{n}$       (where n = # of samples tested)  \n",
    "* **Error Rate: ** How often was our model wrong?\n",
    "    * $\\frac{FP + FN}{n}$\n",
    "* **Recall: ** How often does our model correctly predict yes?\n",
    "    * $\\frac{TP}{TP+FN}$ (also called sensitivity)\n",
    "* **Specificity: ** How often does our model correctly predict no?\n",
    "    * $\\frac{TN}{TN+FP}$\n",
    "* **Precision: ** When our model predicts yes, how often is it correct?\n",
    "    * $\\frac{TP}{FP+TP}$\n",
    "----------------------------------\n",
    "Another common performance measure for classification algorithms is called the **F score**, also known as the **F1 score**.\n",
    "It is the harmonic average of the precision and recall values calculated from the confusion matrix. The F score is a value between 0 and 1, where 0 is the worst, and 1 is perfect precision and recall.\n",
    "\n",
    "$F_1 = 2\\big( \\frac{(p) (r)}{p\\  +\\  r}\\big)$\n",
    "\n",
    "where p = precision, r = recall\n",
    "\n",
    "#### Regression models\n",
    "For regression models, where the task requires a numerical value, we often validate our model based on a *goodness of fit*. A clastic statistical measure is the ** coefficient of determination** or **$R^2$**. While, the actual definition of this value differs between regression models, generally, this is a measurement of the variance of the dependent variable that can be described by the independent variable. \n",
    "\n",
    "In most regression models, we are interested in the **residuals**. A residual ($e_i$), is the difference betweeen the predicted value, and the actual value in a dataset. \n",
    "\n",
    "$e_i = y - \\hat{y}$ \n",
    "\n",
    "where y = is the observed value and $\\hat{y}$ = the predicted value\n",
    "\n",
    "Various modifications of the residuals like the mean absolute error (MAE), mean squared error (MSE), and root mean squared error (RMSE), can tell us other things about the model, such as its sensitivity to outliers.\n",
    "\n",
    "--------------------------------"
   ]
  },
  {
   "cell_type": "markdown",
   "metadata": {
    "collapsed": true
   },
   "source": [
    "### Regression  Model Example"
   ]
  },
  {
   "cell_type": "markdown",
   "metadata": {},
   "source": [
    "Let's build a model and make some predictions!!\n",
    "\n",
    "Let's say that our school wants us to figure out how it can improve its graduation rate. The school has provided a robust dataset with information from over 700 schools in the US, including their graduation rates. \n",
    "\n",
    "For this example, we'll jump over to the [college_data_stats](college_data_stats.ipynb) notebook.\n",
    "\n",
    "------------------"
   ]
  },
  {
   "cell_type": "markdown",
   "metadata": {
    "collapsed": true
   },
   "source": [
    "## Model Capacity\n",
    "\n",
    "As you can see form the results of our linear model, we were not very succesful in predicting graduation rates. In the realm of machine learning, we would say our model is **underfitting** the dataset. This is bad, since we want accurate predictions when new data is recieved. However, we can also have the opposite happen, where our model would **overfit** the data. \n",
    "\n",
    "<img src =\"fit.png\" alt = \"overfit and underfit example\" />\n",
    "\n",
    "Whether or not a model will overfit or underfit a dataset relates to a models **capacity**. The capcity of a model is its ability to descibe a data set with the functions available to it.\n",
    "\n",
    "The range of functions that a model has available to it, is called the ** hypothesis space**. For example, in our linear regression model, the hypothesis space for our model was the set of all linear functions. \n",
    "\n",
    "### Bias and Variance Tradeoff\n",
    "\n",
    "<img src =\"biasVar.png\" alt = \"bias variance optimization\" />\n",
    "\n",
    "----------------\n"
   ]
  },
  {
   "cell_type": "markdown",
   "metadata": {
    "collapsed": true
   },
   "source": []
  },
  {
   "cell_type": "markdown",
   "metadata": {},
   "source": [
    "Conclude with no free lunch theorem"
   ]
  },
  {
   "cell_type": "code",
   "execution_count": null,
   "metadata": {
    "collapsed": true
   },
   "outputs": [],
   "source": []
  }
 ],
 "metadata": {
  "kernelspec": {
   "display_name": "Python 3",
   "language": "python",
   "name": "python3"
  },
  "language_info": {
   "codemirror_mode": {
    "name": "ipython",
    "version": 3
   },
   "file_extension": ".py",
   "mimetype": "text/x-python",
   "name": "python",
   "nbconvert_exporter": "python",
   "pygments_lexer": "ipython3",
   "version": "3.6.1"
  }
 },
 "nbformat": 4,
 "nbformat_minor": 2
}
