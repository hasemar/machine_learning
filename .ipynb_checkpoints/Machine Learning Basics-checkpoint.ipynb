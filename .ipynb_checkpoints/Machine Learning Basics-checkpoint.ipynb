{
 "cells": [
  {
   "cell_type": "markdown",
   "metadata": {},
   "source": [
    "# Machine Learning Basics\n",
    "-------------\n",
    "## What is machine learning?\n",
    "\n",
    "Machine learning is a specific approach to artificial intelligence, that algorithmically applies statistical methods that are iterated over data, to learn a specific tasks without being explicitly programmed to do so. In other words, a machine learning algorithm, is a *strategy* that gives a machine the ability to learn from data. \n",
    "\n",
    "The type of algorithm used depends the task that is to be completed.\n",
    "\n",
    "---------------\n",
    "### Tasks:\n",
    "A task is the end-goal, or objective, that we want our machine to carry out. **It is not the learning process itself.** Some general tasks that a machine algorithm can be trained to carry out are:\n",
    "\n",
    "* Classification\n",
    "    * These types of tasks use algorithms that relationships in imput data and catagorize it. Image recognition, spam filters, and medical diagnosis are common applications.\n",
    "* Regression\n",
    "    * Some tasks involve outputing numerical values as a prediction based on a set of data. There are several regression methods available for this task, from Kernal regression, Gaussian process regression, to simple linear regression. Regression methods are used in finance, biology, engineering and many other fields. \n",
    "* Clustering\n",
    "    * Clustering methods search for natural groupings within a dataset that may or maynot be readily observable otherwise. Sometimes clustering is used to learn about the dataset itself and separate out features in unknown data.\n",
    "* Transcription\n",
    "    * Sometimes it is necessary to turn an input into something else that is more useful to machines or humans. Handwriting recognition, language translation. Deep learning applications can be used to accomplish this.  \n",
    "* Anomaly detection\n",
    "    * Very common in manufacturing and fruad detection, machine learning methods can be utilized to detect outliers, or abnormal paterns within a data stream. \n",
    "    \n",
    "The type of tasks machine learning can accomplish is far more than can be listed here and is ever growing with the continual rise in computational power and more sophisticated analysis methods.\n",
    "\n",
    "** Below, is a general diagram to help select the appropriate algorithm for a specific task. **"
   ]
  },
  {
   "cell_type": "markdown",
   "metadata": {},
   "source": [
    "<img src =\"http://scikit-learn.org/stable/_static/ml_map.png\" alt = \"scikit learn cheat sheet\" />"
   ]
  },
  {
   "cell_type": "markdown",
   "metadata": {},
   "source": [
    "--------------------\n",
    "\n",
    "### Training:\n",
    "Once a machine learning algorithm has been selected, it needs to be ***trained*** to the type of data it will encounter. \n",
    "\n",
    "This step is where the algorithm does its learning. There are two main times of learning processes.\n",
    "\n",
    "#### Supervised\n",
    "Supervised learning involves inputing data with previously known outomes (data with labels). Durring the training, the algorithm produces and constantly adjusts a function to make predictions on future data with unknown outomes. The attribute of a data set that is to be predicted is known as the **target**. \n",
    "\n",
    "Simply, a supervised algorithm first looks an a dataset \"with all the answers\" and uses it to build a model to predict answers from new data.\n",
    "\n",
    "#### Unsupervised\n",
    "Conversly, an unsupervised algorithm trains from data that is unlabeled or unclassified. It learns from the structure of the dataset, an ddraws inferences from that. Unsupervised algorithms are commonly used to cluster data within a set to find similarites that were otherwise hidden.\n",
    "\n",
    "----------------------"
   ]
  },
  {
   "cell_type": "markdown",
   "metadata": {},
   "source": [
    "### Performance:\n",
    "A trained machine learning model must be evaluated based on quantitative performance measures>"
   ]
  },
  {
   "cell_type": "code",
   "execution_count": null,
   "metadata": {
    "collapsed": true
   },
   "outputs": [],
   "source": []
  }
 ],
 "metadata": {
  "kernelspec": {
   "display_name": "Python 3",
   "language": "python",
   "name": "python3"
  },
  "language_info": {
   "codemirror_mode": {
    "name": "ipython",
    "version": 3
   },
   "file_extension": ".py",
   "mimetype": "text/x-python",
   "name": "python",
   "nbconvert_exporter": "python",
   "pygments_lexer": "ipython3",
   "version": "3.6.1"
  }
 },
 "nbformat": 4,
 "nbformat_minor": 2
}
