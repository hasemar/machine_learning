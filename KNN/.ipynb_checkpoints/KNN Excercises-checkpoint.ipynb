{
 "cells": [
  {
   "cell_type": "markdown",
   "metadata": {},
   "source": [
    "# KNN classifier\n",
    "\n",
    "This exploration was produced using a combination of the Introduction to Statistical Learning (ISLR) book and scikit-learn documentation.\n",
    "\n",
    "The K Nearest Neighbors algorithm is a simple classifier algorithm that predicts the label of a new data point based on the the number of training samples closest to it.  \n",
    "\n",
    "The 3 main steps to this algorithm are as follows:\n",
    "* Calculate the distance from the new point to all the training samples\n",
    "* Sort the samples by distance from the new point\n",
    "* Predict the new point label based on the closest training samples\n",
    "    * The closest samples are based on a user defined parameter ***K***, wich is the number of points used to determine the new point's label\n",
    "    \n",
    "The prediction is made as follows: <sub>(from ISLR: equation 2.12, pg. 39)</sub>\n",
    "$$Pr(Y = j\\mid X = x_o) = \\frac{1}{K}\\sum_{i\\ \\in N_o}I(y_i = j)$$ \n",
    "\n",
    "where: $I$ is the indicator variable, $x_o$ is the new data point, $N_o$ is the set of points closest to the new data point\n",
    "\n",
    "The parameter ***K*** has a dramatic affect on the predicted value.\n",
    "<img src=\"knn_pic.JPG\" alt=\"mouse drawing skills\" title=\"KNN K value example\" />\n",
    "\n",
    "From my graph showing a data set with a new data point inserted in, the difference between selecting a K value of 3 vs. a K value of 6 is shown.  If we were to choose K to equal 3, then the algorithm would choose the new data point to be in the blue class. If we set K equal to 6, then the new point belongs to the green class.\n",
    "\n",
    "Choosing a good K value is of high importance to acheiving a good performing model. Low values of K can be too flexible and create an *overfitted* model. A K that is too high will have a high rate of misclassification. \n",
    "\n",
    "To check for overfitting, the model can be tested against a test set of data, while iteratively changing K\n"
   ]
  },
  {
   "cell_type": "markdown",
   "metadata": {},
   "source": [
    "## MNIST dataset   \n",
    "Since the matlab book uses this dataset with a KNN classifier, I will explore a KNN classifier application here in python. \n",
    "\n",
    "[MNIST dataset website](http://yann.lecun.com/exdb/mnist/)\n",
    "\n",
    "The MNIST dataset is a collection of handwritten numbers.  It has 60 thousand training samples and 10 thousand test examples. The samples are 28x28 px black and white images of numbers.\n",
    "\n",
    "The scikit-learn library has the MNIST dataset built in and provides a way to automatically download it.\n"
   ]
  },
  {
   "cell_type": "code",
   "execution_count": 1,
   "metadata": {
    "collapsed": true
   },
   "outputs": [],
   "source": [
    "import pandas as pd\n",
    "import numpy as np\n",
    "from sklearn import datasets"
   ]
  },
  {
   "cell_type": "code",
   "execution_count": 2,
   "metadata": {
    "collapsed": true
   },
   "outputs": [],
   "source": [
    "mnist_data = datasets.fetch_mldata('MNIST Original')   # pulls data from http://mldata.org/ instead of MNIST website"
   ]
  },
  {
   "cell_type": "code",
   "execution_count": 3,
   "metadata": {},
   "outputs": [
    {
     "name": "stdout",
     "output_type": "stream",
     "text": [
      "data shape (70000, 784)\n",
      "target shape (70000,)\n"
     ]
    }
   ],
   "source": [
    "print('data shape',mnist_data.data.shape)\n",
    "print('target shape',mnist_data.target.shape)"
   ]
  },
  {
   "cell_type": "markdown",
   "metadata": {},
   "source": [
    "This dataset is made up of 70,000 samples of images. The images are in the form of a 1-D array of 774 greyscale values from 0 to 255. It is the result of a flattened 28 x 28 pixel image.\n",
    "\n",
    "I think we can check an image out by reshaping a sample and plotting it."
   ]
  },
  {
   "cell_type": "code",
   "execution_count": 4,
   "metadata": {
    "collapsed": true
   },
   "outputs": [],
   "source": [
    "import matplotlib.pyplot as plt\n",
    "%matplotlib inline"
   ]
  },
  {
   "cell_type": "code",
   "execution_count": 5,
   "metadata": {},
   "outputs": [
    {
     "data": {
      "text/plain": [
       "<matplotlib.text.Text at 0x11debf824e0>"
      ]
     },
     "execution_count": 5,
     "metadata": {},
     "output_type": "execute_result"
    },
    {
     "data": {
      "image/png": "[encoded data removed]",
      "text/plain": [
       "<matplotlib.figure.Figure at 0x11debb98550>"
      ]
     },
     "metadata": {},
     "output_type": "display_data"
    }
   ],
   "source": [
    "n = np.random.randint(0,70000)                       # selecting a random int between 0 and 70k (just for fun)\n",
    "sample_image = mnist_data.data[n].reshape(28,28)     # reshape the first entry as a 28 x 28 matrix\n",
    "plt.imshow(sample_image,cmap='Greys')                # after much trial and tribulation...\n",
    "plt.title('n = ' + str(n))"
   ]
  },
  {
   "cell_type": "markdown",
   "metadata": {},
   "source": [
    "## Building a model\n",
    "I will first try and \"homebrew\" an algorithm to see if I can get any sort of performance from it. My plan is to use the 3 main steps mentioned above, but first I need to split up the data into a test set and a training set.\n",
    "\n",
    "### algorithms within algorithms\n",
    "After reading some the sklearn documentation about KNN, it turns out there are a few different algorithms for determining the distance between observations.  The first and most strait forward is the brute-force method, which literally just takes the difference between each point. This is what I was planning on doing for the homebrew algorithm.  However, the documentation also says that this is only effective for samples of 30 or less.  I have 60,000.\n",
    "\n",
    "I will try to take a set of 30 random samples and implement the homebrew method. "
   ]
  },
  {
   "cell_type": "code",
   "execution_count": 174,
   "metadata": {},
   "outputs": [
    {
     "name": "stdout",
     "output_type": "stream",
     "text": [
      "[[ 0.  0.  0. ...,  0.  0.  0.]\n",
      " [ 0.  0.  0. ...,  0.  0.  0.]\n",
      " [ 0.  0.  0. ...,  0.  0.  0.]\n",
      " ..., \n",
      " [ 0.  0.  0. ...,  0.  0.  0.]\n",
      " [ 0.  0.  0. ...,  0.  0.  0.]\n",
      " [ 0.  0.  0. ...,  0.  0.  0.]]\n",
      "[ 0.  4.  5.  3.  8.  0.  2.  6.  3.  5.  7.  6.  6.  6.  6.  5.  1.  6.\n",
      "  9.  9.  9.  7.  6.  8.  3.  2.  4.  5.  3.  1.]\n"
     ]
    }
   ],
   "source": [
    "samples = 30\n",
    "toy_X = np.zeros((samples,784))\n",
    "toy_y = np.zeros(samples)\n",
    "for rows in range(samples):\n",
    "    i = np.random.randint(0,60000)\n",
    "    toy_X[rows] = mnist_data.data[i]\n",
    "    toy_y[rows] = mnist_data.target[i]\n",
    "print(toy_X)\n",
    "print(toy_y)\n"
   ]
  },
  {
   "cell_type": "markdown",
   "metadata": {},
   "source": [
    "Sk-learn has a little function that performs a split of the data in a random manner and is standard practice for building ML models in python."
   ]
  },
  {
   "cell_type": "code",
   "execution_count": 175,
   "metadata": {
    "collapsed": true
   },
   "outputs": [],
   "source": [
    "from sklearn.model_selection import train_test_split"
   ]
  },
  {
   "cell_type": "code",
   "execution_count": 176,
   "metadata": {
    "collapsed": true
   },
   "outputs": [],
   "source": [
    "# splitting data up into sets\n",
    "X_train, X_test, y_train, y_test = train_test_split(toy_X, toy_y, test_size=10)"
   ]
  },
  {
   "cell_type": "markdown",
   "metadata": {
    "collapsed": true
   },
   "source": [
    "### Step 1) Distances\n",
    "Calculate the distances between the new point and the training points.\n",
    "\n",
    "Since our observations are not just a scalar value, we cannot simply take the difference between each point. We first have to find the Euclidean distance between each image's \"gray-scale intensity vector\" <--thus deamed\n",
    "\n",
    "The distance is calculated as follows:\n",
    "\n",
    "$d(x,x') = \\sqrt{(x_1-x_1')^2 + (x_2-x_2')^2+...+(x_n-x_n')^2}$\n",
    "\n",
    "where: n = 784 in our case\n",
    "<sub> cite: [How does KNN work?](https://kevinzakka.github.io/2016/07/13/k-nearest-neighbor/)</sub>\n",
    "\n",
    "Since I am using the most simplistic method (brute force) I need to compare my 10 test samples to my 20 train samples.  This will create a  10x20 matrix of distances, where the rows are test samples, and columns are distance from training sample."
   ]
  },
  {
   "cell_type": "code",
   "execution_count": 177,
   "metadata": {
    "collapsed": true
   },
   "outputs": [],
   "source": [
    "# function for euclidean distance\n",
    "def distFun(train,test):\n",
    "    sum = 0\n",
    "    for i in range(len(train)):\n",
    "        sum += (train[i]-test[i])**2\n",
    "    d = np.sqrt(sum)  \n",
    "    return d\n"
   ]
  },
  {
   "cell_type": "code",
   "execution_count": 178,
   "metadata": {
    "collapsed": true
   },
   "outputs": [],
   "source": [
    "# generating a list of dictionaries\n",
    "\n",
    "# create main dictionary\n",
    "distances = {}\n",
    "# create sub dictionary\n",
    "dist = {}\n",
    "for row in range(len(X_test)):          # for each test sample \n",
    "    row_dic = {}                       # create a dictionary for the test samples\n",
    "    for col in range(len(X_train)):     # for each training sample\n",
    "        d = distFun(X_test[row],X_train[col])      # compute the distance from the test sample\n",
    "        key = str(row) + str(col)\n",
    "        row_dic[str(col)] = {'dist':d, 'label':y_train[col]}   # put the distance into a dictionary referencing the train label\n",
    "    distances[str(row)] = row_dic                              # add the dictionaries to a dictionary \n",
    "        \n",
    "        "
   ]
  },
  {
   "cell_type": "markdown",
   "metadata": {},
   "source": [
    "dictionary inception..."
   ]
  },
  {
   "cell_type": "code",
   "execution_count": 179,
   "metadata": {
    "scrolled": false
   },
   "outputs": [
    {
     "data": {
      "text/plain": [
       "2504.2392058267915"
      ]
     },
     "execution_count": 179,
     "metadata": {},
     "output_type": "execute_result"
    }
   ],
   "source": [
    "distances['0']['0']['dist']"
   ]
  },
  {
   "cell_type": "code",
   "execution_count": 180,
   "metadata": {},
   "outputs": [
    {
     "name": "stdout",
     "output_type": "stream",
     "text": [
      "2504.23920583 3.0\n",
      "2627.97907145 7.0\n",
      "2450.71560978 5.0\n",
      "2336.51770804 5.0\n",
      "2434.73037522 6.0\n",
      "2331.62754316 3.0\n",
      "2397.12285876 6.0\n",
      "2443.27280507 1.0\n",
      "2742.55829473 6.0\n",
      "2680.00130597 7.0\n",
      "2227.7463949 0.0\n",
      "2607.15227787 4.0\n",
      "2628.8474661 4.0\n",
      "2626.09691367 5.0\n",
      "2564.93957044 6.0\n",
      "2509.75397201 8.0\n",
      "2655.80195045 8.0\n",
      "2460.63467423 1.0\n",
      "2828.1806873 6.0\n",
      "2741.17529538 2.0\n",
      "2472.12439007 3.0\n",
      "2342.88518711 7.0\n",
      "2363.91920336 5.0\n",
      "2484.13083391 5.0\n",
      "2396.5560707 6.0\n",
      "2537.83214575 3.0\n",
      "2326.53970523 6.0\n",
      "2333.98436156 1.0\n",
      "2689.31273749 6.0\n",
      "2493.33190731 7.0\n",
      "2041.28366476 0.0\n",
      "2075.3977932 4.0\n",
      "2209.68323522 4.0\n",
      "2494.18644051 5.0\n",
      "2506.19113397 6.0\n",
      "2242.73538341 8.0\n",
      "2206.20873899 8.0\n",
      "2522.83530973 1.0\n",
      "2578.79487358 6.0\n",
      "2756.50194994 2.0\n",
      "2243.01983941 3.0\n",
      "1894.49465557 7.0\n",
      "2436.86458385 5.0\n",
      "2588.4143795 5.0\n",
      "2292.46286775 6.0\n",
      "2187.74564335 3.0\n",
      "2370.97574851 6.0\n",
      "2081.81699484 1.0\n",
      "2555.89084274 6.0\n",
      "2324.31645866 7.0\n",
      "2400.317479 0.0\n",
      "2346.32329401 4.0\n",
      "2491.66430323 4.0\n",
      "2349.8427607 5.0\n",
      "2576.42756545 6.0\n",
      "2597.48743982 8.0\n",
      "2384.69285234 8.0\n",
      "2238.99240731 1.0\n",
      "2542.11368747 6.0\n",
      "2374.64776335 2.0\n",
      "2585.52470497 3.0\n",
      "1912.16683373 7.0\n",
      "2406.34889407 5.0\n",
      "2673.525949 5.0\n",
      "2429.50200658 6.0\n",
      "2598.23343832 3.0\n",
      "2356.24786472 6.0\n",
      "2156.94367103 1.0\n",
      "2825.8888867 6.0\n",
      "2489.93032031 7.0\n",
      "2522.95739163 0.0\n",
      "2481.6444145 4.0\n",
      "2474.27181207 4.0\n",
      "2267.84413045 5.0\n",
      "2755.64203045 6.0\n",
      "2120.71049415 8.0\n",
      "2327.6232513 8.0\n",
      "2370.88865196 1.0\n",
      "2774.29198175 6.0\n",
      "2637.47682454 2.0\n",
      "3144.57294398 3.0\n",
      "2935.60572966 7.0\n",
      "2943.27198879 5.0\n",
      "3050.99885283 5.0\n",
      "3159.04938233 6.0\n",
      "2825.76219806 3.0\n",
      "3162.55324066 6.0\n",
      "3126.68082797 1.0\n",
      "3263.70111989 6.0\n",
      "3182.85060912 7.0\n",
      "2982.55444208 0.0\n",
      "3181.13438886 4.0\n",
      "3152.41970556 4.0\n",
      "3144.78902313 5.0\n",
      "3254.93686575 6.0\n",
      "3101.71049584 8.0\n",
      "2866.41465947 8.0\n",
      "3260.67416342 1.0\n",
      "3316.462121 6.0\n",
      "2860.16135908 2.0\n",
      "2577.93774168 3.0\n",
      "2894.79308414 7.0\n",
      "2637.50526066 5.0\n",
      "2823.5378517 5.0\n",
      "2085.58600878 6.0\n",
      "2749.01400506 3.0\n",
      "2339.0726795 6.0\n",
      "2483.77434563 1.0\n",
      "2655.41164417 6.0\n",
      "3069.93126959 7.0\n",
      "2228.36150568 0.0\n",
      "2827.50561449 4.0\n",
      "2772.42348857 4.0\n",
      "2656.52103323 5.0\n",
      "2496.04607329 6.0\n",
      "2754.07661477 8.0\n",
      "3008.1660526 8.0\n",
      "2660.68525008 1.0\n",
      "2735.37438023 6.0\n",
      "2534.71872207 2.0\n",
      "1674.5154523 3.0\n",
      "2515.2689717 7.0\n",
      "2345.1232377 5.0\n",
      "2533.99822415 5.0\n",
      "2370.42738762 6.0\n",
      "2387.69742639 3.0\n",
      "2547.29974679 6.0\n",
      "1866.45492847 1.0\n",
      "2506.95911415 6.0\n",
      "2531.47091629 7.0\n",
      "2718.39437904 0.0\n",
      "2091.90367847 4.0\n",
      "2246.07591145 4.0\n",
      "2322.19228317 5.0\n",
      "2483.1828366 6.0\n",
      "2791.47792397 8.0\n",
      "2034.59774894 8.0\n",
      "1861.10961526 1.0\n",
      "2497.29733912 6.0\n",
      "2244.24241115 2.0\n",
      "2722.43585783 3.0\n",
      "2276.51290354 7.0\n",
      "2298.99543279 5.0\n",
      "2766.68718868 5.0\n",
      "2557.32418751 6.0\n",
      "2302.53642751 3.0\n",
      "2501.6272704 6.0\n",
      "2363.72650702 1.0\n",
      "2822.59933395 6.0\n",
      "2649.42522068 7.0\n",
      "2626.4609268 0.0\n",
      "2558.54411727 4.0\n",
      "2642.49578997 4.0\n",
      "2715.11473054 5.0\n",
      "2950.30405213 6.0\n",
      "2492.77676498 8.0\n",
      "2301.35416657 8.0\n",
      "2617.60577628 1.0\n",
      "2818.40362617 6.0\n",
      "2582.62598918 2.0\n",
      "3056.88550652 3.0\n",
      "3021.64806025 7.0\n",
      "2874.00139179 5.0\n",
      "2870.20870321 5.0\n",
      "2374.62818142 6.0\n",
      "3100.09806297 3.0\n",
      "2576.04134284 6.0\n",
      "2963.31790397 1.0\n",
      "2699.23229827 6.0\n",
      "3169.27720466 7.0\n",
      "3034.74957781 0.0\n",
      "2646.43155967 4.0\n",
      "2920.49379386 4.0\n",
      "2912.64759283 5.0\n",
      "2490.25862111 6.0\n",
      "3235.62235126 8.0\n",
      "2919.8323582 8.0\n",
      "2831.14464484 1.0\n",
      "2696.63883381 6.0\n",
      "2786.35765831 2.0\n",
      "2506.73752116 3.0\n",
      "2208.66498139 7.0\n",
      "2372.01222594 5.0\n",
      "2267.19121382 5.0\n",
      "2330.23797068 6.0\n",
      "2416.10306072 3.0\n",
      "2476.69154317 6.0\n",
      "2072.3341912 1.0\n",
      "2501.07356949 6.0\n",
      "2415.89445134 7.0\n",
      "2297.25858362 0.0\n",
      "2009.43275578 4.0\n",
      "2324.68535505 4.0\n",
      "2215.8916941 5.0\n",
      "2471.19687601 6.0\n",
      "2598.46839504 8.0\n",
      "2256.93664067 8.0\n",
      "2318.96571773 1.0\n",
      "2616.33197435 6.0\n",
      "2517.55019811 2.0\n"
     ]
    }
   ],
   "source": [
    "for test in distances.keys():\n",
    "    for train in distances[test].keys():\n",
    "        print(distances[test][train]['dist'], distances[test][train]['label'])"
   ]
  },
  {
   "cell_type": "markdown",
   "metadata": {},
   "source": [
    "### Step 2) Sort\n",
    "I can now sort the matrix of distances. I will sort the distances for each row in ascending order.\n"
   ]
  },
  {
   "cell_type": "code",
   "execution_count": 181,
   "metadata": {
    "collapsed": true
   },
   "outputs": [],
   "source": [
    "from statistics import mode"
   ]
  },
  {
   "cell_type": "code",
   "execution_count": 182,
   "metadata": {},
   "outputs": [],
   "source": [
    "tuple_list = []\n",
    "test_list = []\n",
    "for test in distances.keys():\n",
    "    for train in distances[test].keys():\n",
    "        tuple_list.append((distances[test][train]['dist'],distances[test][train]['label']))\n",
    "    test_list.append(tuple_list)\n",
    "    tuple_list = []        "
   ]
  },
  {
   "cell_type": "code",
   "execution_count": 183,
   "metadata": {},
   "outputs": [
    {
     "data": {
      "text/plain": [
       "[(2506.7375211617191, 3.0),\n",
       " (2208.6649813858144, 7.0),\n",
       " (2372.0122259381378, 5.0),\n",
       " (2267.1912138150146, 5.0),\n",
       " (2330.2379706802481, 6.0)]"
      ]
     },
     "execution_count": 183,
     "metadata": {},
     "output_type": "execute_result"
    }
   ],
   "source": [
    "test_list[9][:5]"
   ]
  },
  {
   "cell_type": "code",
   "execution_count": 195,
   "metadata": {},
   "outputs": [
    {
     "ename": "StatisticsError",
     "evalue": "no unique mode; found 2 equally common values",
     "output_type": "error",
     "traceback": [
      "\u001b[1;31m---------------------------------------------------------------------------\u001b[0m",
      "\u001b[1;31mStatisticsError\u001b[0m                           Traceback (most recent call last)",
      "\u001b[1;32m<ipython-input-195-ae5e2ceca8f1>\u001b[0m in \u001b[0;36m<module>\u001b[1;34m()\u001b[0m\n\u001b[0;32m      9\u001b[0m         \u001b[0mtally\u001b[0m\u001b[1;33m.\u001b[0m\u001b[0mappend\u001b[0m\u001b[1;33m(\u001b[0m\u001b[0mtpls\u001b[0m\u001b[1;33m[\u001b[0m\u001b[1;36m1\u001b[0m\u001b[1;33m]\u001b[0m\u001b[1;33m)\u001b[0m\u001b[1;33m\u001b[0m\u001b[0m\n\u001b[0;32m     10\u001b[0m     \u001b[1;32mif\u001b[0m \u001b[0mtally\u001b[0m\u001b[1;33m:\u001b[0m\u001b[1;33m\u001b[0m\u001b[0m\n\u001b[1;32m---> 11\u001b[1;33m         \u001b[0mprediction\u001b[0m\u001b[1;33m.\u001b[0m\u001b[0mappend\u001b[0m\u001b[1;33m(\u001b[0m\u001b[0mmode\u001b[0m\u001b[1;33m(\u001b[0m\u001b[0mtally\u001b[0m\u001b[1;33m[\u001b[0m\u001b[1;33m:\u001b[0m\u001b[0mk\u001b[0m\u001b[1;33m]\u001b[0m\u001b[1;33m)\u001b[0m\u001b[1;33m)\u001b[0m\u001b[1;33m\u001b[0m\u001b[0m\n\u001b[0m\u001b[0;32m     12\u001b[0m     \u001b[0msorted_tpls\u001b[0m \u001b[1;33m=\u001b[0m \u001b[1;33m[\u001b[0m\u001b[1;33m]\u001b[0m\u001b[1;33m\u001b[0m\u001b[0m\n\u001b[0;32m     13\u001b[0m     \u001b[0mtally\u001b[0m\u001b[1;33m=\u001b[0m\u001b[1;33m[\u001b[0m\u001b[1;33m]\u001b[0m\u001b[1;33m\u001b[0m\u001b[0m\n",
      "\u001b[1;32mC:\\Users\\Ryan\\Anaconda3\\envs\\dataScience\\lib\\statistics.py\u001b[0m in \u001b[0;36mmode\u001b[1;34m(data)\u001b[0m\n\u001b[0;32m    505\u001b[0m     \u001b[1;32melif\u001b[0m \u001b[0mtable\u001b[0m\u001b[1;33m:\u001b[0m\u001b[1;33m\u001b[0m\u001b[0m\n\u001b[0;32m    506\u001b[0m         raise StatisticsError(\n\u001b[1;32m--> 507\u001b[1;33m                 \u001b[1;34m'no unique mode; found %d equally common values'\u001b[0m \u001b[1;33m%\u001b[0m \u001b[0mlen\u001b[0m\u001b[1;33m(\u001b[0m\u001b[0mtable\u001b[0m\u001b[1;33m)\u001b[0m\u001b[1;33m\u001b[0m\u001b[0m\n\u001b[0m\u001b[0;32m    508\u001b[0m                 )\n\u001b[0;32m    509\u001b[0m     \u001b[1;32melse\u001b[0m\u001b[1;33m:\u001b[0m\u001b[1;33m\u001b[0m\u001b[0m\n",
      "\u001b[1;31mStatisticsError\u001b[0m: no unique mode; found 2 equally common values"
     ]
    }
   ],
   "source": [
    "k = 15\n",
    "j=1\n",
    "sorted_tpls = []\n",
    "prediction = []\n",
    "tally=[]\n",
    "for tpl_list in test_list:\n",
    "    sorted_tpls = sorted(tpl_list)\n",
    "    for tpls in sorted_tpls:\n",
    "        tally.append(tpls[1])\n",
    "    if tally:\n",
    "        prediction.append(mode(tally[:k]))\n",
    "    sorted_tpls = []\n",
    "    tally=[]\n",
    "\n",
    "print(prediction)\n"
   ]
  },
  {
   "cell_type": "code",
   "execution_count": 185,
   "metadata": {},
   "outputs": [
    {
     "name": "stdout",
     "output_type": "stream",
     "text": [
      "[1, 2, 3]\n"
     ]
    }
   ],
   "source": [
    "theList = [1,2,3,4,5,6]\n",
    "print(theList[:3])"
   ]
  },
  {
   "cell_type": "code",
   "execution_count": 186,
   "metadata": {},
   "outputs": [
    {
     "data": {
      "text/plain": [
       "array([ 5.,  9.,  2.,  9.,  0.,  6.,  3.,  3.,  6.,  9.])"
      ]
     },
     "execution_count": 186,
     "metadata": {},
     "output_type": "execute_result"
    }
   ],
   "source": [
    "y_test"
   ]
  },
  {
   "cell_type": "markdown",
   "metadata": {},
   "source": [
    "### Step 3) Predict\n",
    "Now I can take the ***K*** nearest points from the test values to predict what number it is.\n",
    "\n",
    "Since the test samples are sorted in ascending order, the ***K*** value will corespond to the number of elements we consider, starting from index 0.\n",
    "\n",
    "Then we can check to see what train samples corespond to each element. Our prediction will be based on which train sample is most prevalent in the set of ***K*** values."
   ]
  },
  {
   "cell_type": "code",
   "execution_count": 21,
   "metadata": {},
   "outputs": [
    {
     "data": {
      "text/plain": [
       "0.0"
      ]
     },
     "execution_count": 21,
     "metadata": {},
     "output_type": "execute_result"
    }
   ],
   "source": [
    "def tally(arr,K):\n",
    "    "
   ]
  },
  {
   "cell_type": "code",
   "execution_count": 34,
   "metadata": {},
   "outputs": [
    {
     "data": {
      "text/plain": [
       "array([ 7.,  1.,  4.,  0.,  4.,  6.,  6.,  6.,  8.,  3.,  4.,  8.,  1.,\n",
       "        0.,  2.,  3.,  7.,  5.,  2.,  1.])"
      ]
     },
     "execution_count": 34,
     "metadata": {},
     "output_type": "execute_result"
    }
   ],
   "source": [
    "y_train"
   ]
  },
  {
   "cell_type": "code",
   "execution_count": 63,
   "metadata": {},
   "outputs": [
    {
     "name": "stdout",
     "output_type": "stream",
     "text": [
      "[[[1, 3, 2, 5, 4]], [[4, 3, 1, 6, 4]]]\n"
     ]
    }
   ],
   "source": [
    "a = [1,3,2,5,4]\n",
    "b = [4,3,1,6,4]\n",
    "c = [[a],[b]]\n",
    "print(c)\n"
   ]
  },
  {
   "cell_type": "code",
   "execution_count": 64,
   "metadata": {},
   "outputs": [
    {
     "data": {
      "text/plain": [
       "array([[[1, 3, 2, 5, 4]],\n",
       "\n",
       "       [[4, 3, 1, 6, 4]]])"
      ]
     },
     "execution_count": 64,
     "metadata": {},
     "output_type": "execute_result"
    }
   ],
   "source": [
    "np.sort(c,axis=1)"
   ]
  },
  {
   "cell_type": "code",
   "execution_count": null,
   "metadata": {
    "collapsed": true
   },
   "outputs": [],
   "source": []
  }
 ],
 "metadata": {
  "kernelspec": {
   "display_name": "Python 3",
   "language": "python",
   "name": "python3"
  },
  "language_info": {
   "codemirror_mode": {
    "name": "ipython",
    "version": 3
   },
   "file_extension": ".py",
   "mimetype": "text/x-python",
   "name": "python",
   "nbconvert_exporter": "python",
   "pygments_lexer": "ipython3",
   "version": "3.6.1"
  }
 },
 "nbformat": 4,
 "nbformat_minor": 2
}
