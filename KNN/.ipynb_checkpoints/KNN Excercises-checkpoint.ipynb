{
 "cells": [
  {
   "cell_type": "markdown",
   "metadata": {},
   "source": [
    "# KNN classifier\n",
    "\n",
    "This exploration was produced using a combination of the Introduction to Statistical Learning (ISLR) book and scikit-learn documentation.\n",
    "\n",
    "The K Nearest Neighbors algorithm is a simple classifier algorithm that predicts the label of a new data point based on the the number of training samples closest to it.  \n",
    "\n",
    "The 3 main steps to this algorithm are as follows:\n",
    "* Calculate the distance from the new point to all the training samples\n",
    "* Sort the samples by distance from the new point\n",
    "* Predict the new point label based on the closest training samples\n",
    "    * The closest samples are based on a user defined parameter ***K***, wich is the number of points used to determine the new point's label\n",
    "    \n",
    "The prediction is made as follows: <sub>(from ISLR: equation 2.12, pg. 39)</sub>\n",
    "$$Pr(Y = j\\mid X = x_o) = \\frac{1}{K}\\sum_{i\\ \\in N_o}I(y_i = j)$$ \n",
    "\n",
    "where: $I$ is the indicator variable, $x_o$ is the new data point, $N_o$ is the set of points closest to the new data point\n",
    "\n",
    "The parameter ***K*** has a dramatic affect on the predicted value.\n",
    "<img src=\"knn_pic.JPG\" alt=\"mouse drawing skills\" title=\"KNN K value example\" />\n",
    "\n",
    "From my graph showing a data set with a new data point inserted in, the difference between selecting a K value of 3 vs. a K value of 6 is shown.  If we were to choose K to equal 3, then the algorithm would choose the new data point to be in the blue class. If we set K equal to 6, then the new point belongs to the green class.\n",
    "\n",
    "Choosing a good K value is of high importance to acheiving a good performing model. Low values of K can be too flexible and create an *overfitted* model. A K that is too high will have a high rate of misclassification. \n",
    "\n",
    "To check for overfitting, the model can be tested against a test set of data, while iteratively changing K\n"
   ]
  },
  {
   "cell_type": "markdown",
   "metadata": {},
   "source": [
    "## MNIST dataset   \n",
    "Since the matlab book uses this dataset with a KNN classifier, I will explore a KNN classifier application here in python. \n",
    "\n",
    "[MNIST dataset website](http://yann.lecun.com/exdb/mnist/)\n",
    "\n",
    "The MNIST dataset is a collection of handwritten numbers.  It has 60 thousand training samples and 10 thousand test examples. The samples are 28x28 px black and white images of numbers.\n",
    "\n",
    "The scikit-learn library has the MNIST dataset built in and provides a way to automatically download it.\n"
   ]
  },
  {
   "cell_type": "code",
   "execution_count": 1,
   "metadata": {
    "collapsed": true
   },
   "outputs": [],
   "source": [
    "import pandas as pd\n",
    "import numpy as np\n",
    "from sklearn import datasets"
   ]
  },
  {
   "cell_type": "code",
   "execution_count": 2,
   "metadata": {
    "collapsed": true
   },
   "outputs": [],
   "source": [
    "mnist_data = datasets.fetch_mldata('MNIST Original')   # pulls data from http://mldata.org/ instead of MNIST website"
   ]
  },
  {
   "cell_type": "code",
   "execution_count": 3,
   "metadata": {},
   "outputs": [
    {
     "name": "stdout",
     "output_type": "stream",
     "text": [
      "data shape (70000, 784)\n",
      "target shape (70000,)\n"
     ]
    }
   ],
   "source": [
    "print('data shape',mnist_data.data.shape)\n",
    "print('target shape',mnist_data.target.shape)"
   ]
  },
  {
   "cell_type": "markdown",
   "metadata": {},
   "source": [
    "This dataset is made up of 70,000 samples of images. The images are in the form of a 1-D array of 774 greyscale values from 0 to 255. It is the result of a flattened 28 x 28 pixel image.\n",
    "\n",
    "I think we can check an image out by reshaping a sample and plotting it."
   ]
  },
  {
   "cell_type": "code",
   "execution_count": 4,
   "metadata": {
    "collapsed": true
   },
   "outputs": [],
   "source": [
    "import matplotlib.pyplot as plt\n",
    "%matplotlib inline"
   ]
  },
  {
   "cell_type": "code",
   "execution_count": 161,
   "metadata": {},
   "outputs": [
    {
     "data": {
      "text/plain": [
       "<matplotlib.text.Text at 0x29f37924898>"
      ]
     },
     "execution_count": 161,
     "metadata": {},
     "output_type": "execute_result"
    },
    {
     "data": {
      "image/png": "[encoded data removed]",
      "text/plain": [
       "<matplotlib.figure.Figure at 0x29f378d7cf8>"
      ]
     },
     "metadata": {},
     "output_type": "display_data"
    }
   ],
   "source": [
    "n = np.random.randint(0,70000)                       # selecting a random int between 0 and 70k (just for fun)\n",
    "sample_image = mnist_data.data[n].reshape(28,28)     # reshape the first entry as a 28 x 28 matrix\n",
    "plt.imshow(sample_image,cmap='Greys')                # after much trial and tribulation...\n",
    "plt.title('n = ' + str(n))"
   ]
  },
  {
   "cell_type": "markdown",
   "metadata": {},
   "source": [
    "## Building a model\n",
    "I will first try and \"homebrew\" an algorithm to see if I can get any sort of performance from it. My plan is to use the 3 main steps mentioned above, but first I need to split up the data into a test set and a training set.\n",
    "\n",
    "### algorithms within algorithms\n",
    "After reading some the sklearn documentation about KNN, it turns out there are a few different algorithms for determining the distance between observations.  The first and most strait forward is the brute-force method, which literally just takes the difference between each point. This is what I was planning on doing for the homebrew algorithm.  However, the documentation also says that this is only effective for samples of 30 or less.  I have 60,000.\n",
    "\n",
    "I will try to take a set of 30 random samples and implement the homebrew method. "
   ]
  },
  {
   "cell_type": "code",
   "execution_count": 6,
   "metadata": {},
   "outputs": [
    {
     "name": "stdout",
     "output_type": "stream",
     "text": [
      "[[ 0.  0.  0. ...,  0.  0.  0.]\n",
      " [ 0.  0.  0. ...,  0.  0.  0.]\n",
      " [ 0.  0.  0. ...,  0.  0.  0.]\n",
      " ..., \n",
      " [ 0.  0.  0. ...,  0.  0.  0.]\n",
      " [ 0.  0.  0. ...,  0.  0.  0.]\n",
      " [ 0.  0.  0. ...,  0.  0.  0.]]\n",
      "[ 3.  0.  1.  4.  1.  9.  0.  6.  2.  9.  2.  4.  1.  7.  2.  6.  4.  1.\n",
      "  0.  1.  3.  9.  3.  7.  8.  9.  8.  6.  5.  2.]\n"
     ]
    }
   ],
   "source": [
    "toy_X = np.zeros((30,784))\n",
    "toy_y = np.zeros(30)\n",
    "for rows in range(30):\n",
    "    i = np.random.randint(0,60000)\n",
    "    toy_X[rows] = mnist_data.data[i]\n",
    "    toy_y[rows] = mnist_data.target[i]\n",
    "print(toy_X)\n",
    "print(toy_y)\n"
   ]
  },
  {
   "cell_type": "markdown",
   "metadata": {},
   "source": [
    "Sk-learn has a little function that performs a split of the data in a random manner and is standard practice for building ML models in python."
   ]
  },
  {
   "cell_type": "code",
   "execution_count": 7,
   "metadata": {
    "collapsed": true
   },
   "outputs": [],
   "source": [
    "from sklearn.model_selection import train_test_split"
   ]
  },
  {
   "cell_type": "code",
   "execution_count": 35,
   "metadata": {},
   "outputs": [],
   "source": [
    "# splitting data up into sets\n",
    "X_train, X_test, y_train, y_test = train_test_split(toy_X, toy_y, test_size=10)"
   ]
  },
  {
   "cell_type": "markdown",
   "metadata": {
    "collapsed": true
   },
   "source": [
    "### Step 1) Distances\n",
    "Calculate the distances between the new point and the training points.\n",
    "\n",
    "Since our observations are not just a scalar value, we cannot simply take the difference between each point. We first have to find the Euclidean distance between each image's \"gray-scale intensity vector\" <--thus deamed\n",
    "\n",
    "The distance is calculated as follows:\n",
    "\n",
    "$d(x,x') = \\sqrt{(x_1-x_1')^2 + (x_2-x_2')^2+...+(x_n-x_n')^2}$\n",
    "\n",
    "where: n = 784 in our case\n",
    "<sub> cite: [How does KNN work?](https://kevinzakka.github.io/2016/07/13/k-nearest-neighbor/)</sub>\n",
    "\n",
    "Since I am using the most simplistic method (brute force) I need to compare my 10 test samples to my 20 train samples.  This will create a  10x20 matrix of distances, where the rows are test samples, and columns are distance from training sample."
   ]
  },
  {
   "cell_type": "code",
   "execution_count": 56,
   "metadata": {
    "collapsed": true
   },
   "outputs": [],
   "source": [
    "# function for euclidean distance\n",
    "def distFun(train,test):\n",
    "    sum = 0\n",
    "    for i in range(len(train)):\n",
    "        sum += (train[i]-test[i])**2\n",
    "    d = np.sqrt(sum)  \n",
    "    return d\n"
   ]
  },
  {
   "cell_type": "code",
   "execution_count": 140,
   "metadata": {},
   "outputs": [],
   "source": [
    "# generating a list of dictionaries\n",
    "\n",
    "# create main dictionary\n",
    "distances = {}\n",
    "# create sub dictionary\n",
    "dist = {}\n",
    "for row in range(len(X_test)):          # for each test sample \n",
    "    row_dic = {}                       # create a dictionary for the test samples\n",
    "    for col in range(len(X_train)):     # for each training sample\n",
    "        d = distFun(X_test[row],X_train[col])      # compute the distance from the test sample\n",
    "        key = str(row) + str(col)\n",
    "        row_dic[str(col)] = {'dist':d, 'label':y_train[col]}   # put the distance into a dictionary referencing the train label\n",
    "    distances[str(row)] = row_dic                              # add the dictionaries to a dictionary \n",
    "        \n",
    "        "
   ]
  },
  {
   "cell_type": "markdown",
   "metadata": {},
   "source": [
    "dictionary inception..."
   ]
  },
  {
   "cell_type": "code",
   "execution_count": 141,
   "metadata": {
    "scrolled": false
   },
   "outputs": [
    {
     "data": {
      "text/plain": [
       "{'0': {'0': {'dist': 2756.1580143380747, 'label': 3.0},\n",
       "  '1': {'dist': 1555.0102893550254, 'label': 1.0},\n",
       "  '10': {'dist': 2918.0914995935273, 'label': 2.0},\n",
       "  '11': {'dist': 2994.8450711180371, 'label': 0.0},\n",
       "  '12': {'dist': 2154.6825752300501, 'label': 9.0},\n",
       "  '13': {'dist': 2293.8639889932447, 'label': 4.0},\n",
       "  '14': {'dist': 2197.6865108563597, 'label': 2.0},\n",
       "  '15': {'dist': 2227.6175614319436, 'label': 1.0},\n",
       "  '16': {'dist': 2324.8311766663833, 'label': 9.0},\n",
       "  '17': {'dist': 2613.9885233106897, 'label': 6.0},\n",
       "  '18': {'dist': 2301.5164565998653, 'label': 6.0},\n",
       "  '19': {'dist': 2390.3985023422351, 'label': 3.0},\n",
       "  '2': {'dist': 3189.6603267432724, 'label': 2.0},\n",
       "  '3': {'dist': 2368.8733609038709, 'label': 4.0},\n",
       "  '4': {'dist': 1897.1829115823282, 'label': 6.0},\n",
       "  '5': {'dist': 1558.3914784161263, 'label': 1.0},\n",
       "  '6': {'dist': 2100.5349318685467, 'label': 8.0},\n",
       "  '7': {'dist': 2028.9255777381288, 'label': 0.0},\n",
       "  '8': {'dist': 1927.12039063469, 'label': 9.0},\n",
       "  '9': {'dist': 2295.421529915584, 'label': 7.0}},\n",
       " '1': {'0': {'dist': 2937.8650411480785, 'label': 3.0},\n",
       "  '1': {'dist': 2236.4053747028956, 'label': 1.0},\n",
       "  '10': {'dist': 3192.7589949759754, 'label': 2.0},\n",
       "  '11': {'dist': 3104.9217381441354, 'label': 0.0},\n",
       "  '12': {'dist': 2572.8845679509213, 'label': 9.0},\n",
       "  '13': {'dist': 2504.424484786874, 'label': 4.0},\n",
       "  '14': {'dist': 2510.4039515583941, 'label': 2.0},\n",
       "  '15': {'dist': 2214.5446484548465, 'label': 1.0},\n",
       "  '16': {'dist': 2468.820771137508, 'label': 9.0},\n",
       "  '17': {'dist': 2670.3789993182618, 'label': 6.0},\n",
       "  '18': {'dist': 2740.293414946655, 'label': 6.0},\n",
       "  '19': {'dist': 2767.1507006305242, 'label': 3.0},\n",
       "  '2': {'dist': 2973.9645256794843, 'label': 2.0},\n",
       "  '3': {'dist': 2243.9766041561129, 'label': 4.0},\n",
       "  '4': {'dist': 2600.4793788838242, 'label': 6.0},\n",
       "  '5': {'dist': 2343.8080126153677, 'label': 1.0},\n",
       "  '6': {'dist': 2571.9714228583489, 'label': 8.0},\n",
       "  '7': {'dist': 2721.8932749099476, 'label': 0.0},\n",
       "  '8': {'dist': 2475.7978511986798, 'label': 9.0},\n",
       "  '9': {'dist': 2751.6504138425726, 'label': 7.0}},\n",
       " '2': {'0': {'dist': 3178.7044530751832, 'label': 3.0},\n",
       "  '1': {'dist': 2847.6074167623597, 'label': 1.0},\n",
       "  '10': {'dist': 3603.9912597008333, 'label': 2.0},\n",
       "  '11': {'dist': 3137.0058973486166, 'label': 0.0},\n",
       "  '12': {'dist': 2733.3711785997889, 'label': 9.0},\n",
       "  '13': {'dist': 2855.785531163011, 'label': 4.0},\n",
       "  '14': {'dist': 3014.6792532539844, 'label': 2.0},\n",
       "  '15': {'dist': 3032.1449503610474, 'label': 1.0},\n",
       "  '16': {'dist': 2726.2202772336645, 'label': 9.0},\n",
       "  '17': {'dist': 2829.100740518089, 'label': 6.0},\n",
       "  '18': {'dist': 3087.2497469430618, 'label': 6.0},\n",
       "  '19': {'dist': 2784.4532676990648, 'label': 3.0},\n",
       "  '2': {'dist': 3424.6818830367297, 'label': 2.0},\n",
       "  '3': {'dist': 2400.5299414920864, 'label': 4.0},\n",
       "  '4': {'dist': 2782.5172056970287, 'label': 6.0},\n",
       "  '5': {'dist': 2899.4935764715879, 'label': 1.0},\n",
       "  '6': {'dist': 3132.961219038627, 'label': 8.0},\n",
       "  '7': {'dist': 2892.9058055871783, 'label': 0.0},\n",
       "  '8': {'dist': 2559.8980448447551, 'label': 9.0},\n",
       "  '9': {'dist': 2701.0573855436687, 'label': 7.0}},\n",
       " '3': {'0': {'dist': 2662.4330977510026, 'label': 3.0},\n",
       "  '1': {'dist': 1539.8201193645964, 'label': 1.0},\n",
       "  '10': {'dist': 2908.3457497347181, 'label': 2.0},\n",
       "  '11': {'dist': 3016.3325413488478, 'label': 0.0},\n",
       "  '12': {'dist': 2075.2758852740521, 'label': 9.0},\n",
       "  '13': {'dist': 2236.2144351559846, 'label': 4.0},\n",
       "  '14': {'dist': 2050.5640687381606, 'label': 2.0},\n",
       "  '15': {'dist': 2066.6100261055544, 'label': 1.0},\n",
       "  '16': {'dist': 2292.6131378843661, 'label': 9.0},\n",
       "  '17': {'dist': 2527.9467953261992, 'label': 6.0},\n",
       "  '18': {'dist': 2224.5577088491095, 'label': 6.0},\n",
       "  '19': {'dist': 2198.8296887207975, 'label': 3.0},\n",
       "  '2': {'dist': 3084.5871684878675, 'label': 2.0},\n",
       "  '3': {'dist': 2385.7849861209202, 'label': 4.0},\n",
       "  '4': {'dist': 1759.194133687354, 'label': 6.0},\n",
       "  '5': {'dist': 1551.040618423644, 'label': 1.0},\n",
       "  '6': {'dist': 2175.2976807784262, 'label': 8.0},\n",
       "  '7': {'dist': 2184.5475504094666, 'label': 0.0},\n",
       "  '8': {'dist': 1742.8046362114142, 'label': 9.0},\n",
       "  '9': {'dist': 2336.6833332738947, 'label': 7.0}},\n",
       " '4': {'0': {'dist': 2624.9820951770321, 'label': 3.0},\n",
       "  '1': {'dist': 2006.1602627905877, 'label': 1.0},\n",
       "  '10': {'dist': 2832.4039259964316, 'label': 2.0},\n",
       "  '11': {'dist': 2995.189643411582, 'label': 0.0},\n",
       "  '12': {'dist': 2521.7456255538541, 'label': 9.0},\n",
       "  '13': {'dist': 2350.6952163136762, 'label': 4.0},\n",
       "  '14': {'dist': 2153.288183221187, 'label': 2.0},\n",
       "  '15': {'dist': 1404.6722037543136, 'label': 1.0},\n",
       "  '16': {'dist': 2487.4517080739479, 'label': 9.0},\n",
       "  '17': {'dist': 2714.969244761347, 'label': 6.0},\n",
       "  '18': {'dist': 2564.6656702190248, 'label': 6.0},\n",
       "  '19': {'dist': 2412.7940235337123, 'label': 3.0},\n",
       "  '2': {'dist': 3111.7736100172842, 'label': 2.0},\n",
       "  '3': {'dist': 2554.2511622782908, 'label': 4.0},\n",
       "  '4': {'dist': 2397.3207962223164, 'label': 6.0},\n",
       "  '5': {'dist': 2124.7710464894799, 'label': 1.0},\n",
       "  '6': {'dist': 1952.8520169229414, 'label': 8.0},\n",
       "  '7': {'dist': 2386.9987431919608, 'label': 0.0},\n",
       "  '8': {'dist': 2271.8879813934491, 'label': 9.0},\n",
       "  '9': {'dist': 2710.1265653101887, 'label': 7.0}},\n",
       " '5': {'0': {'dist': 2466.4510941837057, 'label': 3.0},\n",
       "  '1': {'dist': 2020.0042079164093, 'label': 1.0},\n",
       "  '10': {'dist': 2483.3727066229908, 'label': 2.0},\n",
       "  '11': {'dist': 2797.8318391211433, 'label': 0.0},\n",
       "  '12': {'dist': 2128.5964859503079, 'label': 9.0},\n",
       "  '13': {'dist': 2204.4328068689233, 'label': 4.0},\n",
       "  '14': {'dist': 2245.2990892083844, 'label': 2.0},\n",
       "  '15': {'dist': 2366.6951641476771, 'label': 1.0},\n",
       "  '16': {'dist': 2270.3087895702647, 'label': 9.0},\n",
       "  '17': {'dist': 2522.3687280015188, 'label': 6.0},\n",
       "  '18': {'dist': 2288.4855254075783, 'label': 6.0},\n",
       "  '19': {'dist': 2546.5904657011502, 'label': 3.0},\n",
       "  '2': {'dist': 2792.0288322293522, 'label': 2.0},\n",
       "  '3': {'dist': 2557.75350649745, 'label': 4.0},\n",
       "  '4': {'dist': 2159.9307859281048, 'label': 6.0},\n",
       "  '5': {'dist': 2028.5556438017666, 'label': 1.0},\n",
       "  '6': {'dist': 2263.1294704457364, 'label': 8.0},\n",
       "  '7': {'dist': 2208.6183463876232, 'label': 0.0},\n",
       "  '8': {'dist': 2271.632672770842, 'label': 9.0},\n",
       "  '9': {'dist': 2679.7731247253005, 'label': 7.0}},\n",
       " '6': {'0': {'dist': 2495.8804057887069, 'label': 3.0},\n",
       "  '1': {'dist': 2481.3691784980324, 'label': 1.0},\n",
       "  '10': {'dist': 2826.3556039536143, 'label': 2.0},\n",
       "  '11': {'dist': 2703.8626074562294, 'label': 0.0},\n",
       "  '12': {'dist': 2403.9261635915527, 'label': 9.0},\n",
       "  '13': {'dist': 2301.8027717421837, 'label': 4.0},\n",
       "  '14': {'dist': 2985.1321578784414, 'label': 2.0},\n",
       "  '15': {'dist': 2655.286048620751, 'label': 1.0},\n",
       "  '16': {'dist': 2514.2481977720499, 'label': 9.0},\n",
       "  '17': {'dist': 2862.8915452737638, 'label': 6.0},\n",
       "  '18': {'dist': 2639.1820702634368, 'label': 6.0},\n",
       "  '19': {'dist': 2880.6264943584756, 'label': 3.0},\n",
       "  '2': {'dist': 3255.0506908495295, 'label': 2.0},\n",
       "  '3': {'dist': 2876.435120074847, 'label': 4.0},\n",
       "  '4': {'dist': 2586.3683032391191, 'label': 6.0},\n",
       "  '5': {'dist': 2554.7015481265125, 'label': 1.0},\n",
       "  '6': {'dist': 2632.4796295508158, 'label': 8.0},\n",
       "  '7': {'dist': 2127.8799308231655, 'label': 0.0},\n",
       "  '8': {'dist': 2526.2963009116725, 'label': 9.0},\n",
       "  '9': {'dist': 2918.469119247281, 'label': 7.0}},\n",
       " '7': {'0': {'dist': 3055.1536786224028, 'label': 3.0},\n",
       "  '1': {'dist': 2520.1376946508299, 'label': 1.0},\n",
       "  '10': {'dist': 3065.2123906835559, 'label': 2.0},\n",
       "  '11': {'dist': 3233.7399400693926, 'label': 0.0},\n",
       "  '12': {'dist': 2796.8174770620981, 'label': 9.0},\n",
       "  '13': {'dist': 3016.6575874633172, 'label': 4.0},\n",
       "  '14': {'dist': 2847.3571957167578, 'label': 2.0},\n",
       "  '15': {'dist': 2784.686517366003, 'label': 1.0},\n",
       "  '16': {'dist': 2760.437827591848, 'label': 9.0},\n",
       "  '17': {'dist': 3196.5770755606691, 'label': 6.0},\n",
       "  '18': {'dist': 3030.2879401139426, 'label': 6.0},\n",
       "  '19': {'dist': 2636.3653009399136, 'label': 3.0},\n",
       "  '2': {'dist': 3255.8129553154617, 'label': 2.0},\n",
       "  '3': {'dist': 2738.5021453341969, 'label': 4.0},\n",
       "  '4': {'dist': 2691.2461797464757, 'label': 6.0},\n",
       "  '5': {'dist': 2604.0839080183264, 'label': 1.0},\n",
       "  '6': {'dist': 2734.6312365655449, 'label': 8.0},\n",
       "  '7': {'dist': 2465.4816973565225, 'label': 0.0},\n",
       "  '8': {'dist': 2720.9211675460206, 'label': 9.0},\n",
       "  '9': {'dist': 2997.7680030315887, 'label': 7.0}},\n",
       " '8': {'0': {'dist': 2674.5964181535874, 'label': 3.0},\n",
       "  '1': {'dist': 2848.8425719930542, 'label': 1.0},\n",
       "  '10': {'dist': 3359.970684395922, 'label': 2.0},\n",
       "  '11': {'dist': 2977.0109170105507, 'label': 0.0},\n",
       "  '12': {'dist': 2801.5085222072767, 'label': 9.0},\n",
       "  '13': {'dist': 2899.3714836150266, 'label': 4.0},\n",
       "  '14': {'dist': 3022.0173725509917, 'label': 2.0},\n",
       "  '15': {'dist': 3018.5123819524078, 'label': 1.0},\n",
       "  '16': {'dist': 2870.7296981777995, 'label': 9.0},\n",
       "  '17': {'dist': 3204.6636328950344, 'label': 6.0},\n",
       "  '18': {'dist': 3229.5016643438967, 'label': 6.0},\n",
       "  '19': {'dist': 2309.8467481631765, 'label': 3.0},\n",
       "  '2': {'dist': 3523.3972242709165, 'label': 2.0},\n",
       "  '3': {'dist': 3023.4040418045352, 'label': 4.0},\n",
       "  '4': {'dist': 2895.4636934349564, 'label': 6.0},\n",
       "  '5': {'dist': 2836.2572168264287, 'label': 1.0},\n",
       "  '6': {'dist': 2859.1554697147899, 'label': 8.0},\n",
       "  '7': {'dist': 2626.8779948828992, 'label': 0.0},\n",
       "  '8': {'dist': 2759.9902173739674, 'label': 9.0},\n",
       "  '9': {'dist': 2943.5059028308401, 'label': 7.0}},\n",
       " '9': {'0': {'dist': 2456.3774139981015, 'label': 3.0},\n",
       "  '1': {'dist': 2810.9318739521241, 'label': 1.0},\n",
       "  '10': {'dist': 3192.0130012266554, 'label': 2.0},\n",
       "  '11': {'dist': 2943.6664213188287, 'label': 0.0},\n",
       "  '12': {'dist': 2651.0926049461191, 'label': 9.0},\n",
       "  '13': {'dist': 2723.8265363271576, 'label': 4.0},\n",
       "  '14': {'dist': 2898.7792258121349, 'label': 2.0},\n",
       "  '15': {'dist': 2795.5140851013434, 'label': 1.0},\n",
       "  '16': {'dist': 2791.3167143840915, 'label': 9.0},\n",
       "  '17': {'dist': 3148.0567021576976, 'label': 6.0},\n",
       "  '18': {'dist': 2977.2341191112264, 'label': 6.0},\n",
       "  '19': {'dist': 1836.5042880429112, 'label': 3.0},\n",
       "  '2': {'dist': 3314.784759226457, 'label': 2.0},\n",
       "  '3': {'dist': 2818.6120697960546, 'label': 4.0},\n",
       "  '4': {'dist': 2957.0339869538193, 'label': 6.0},\n",
       "  '5': {'dist': 2801.1863558142645, 'label': 1.0},\n",
       "  '6': {'dist': 2649.714324224406, 'label': 8.0},\n",
       "  '7': {'dist': 2685.7862908280695, 'label': 0.0},\n",
       "  '8': {'dist': 2777.9474437073141, 'label': 9.0},\n",
       "  '9': {'dist': 3106.4215747383678, 'label': 7.0}}}"
      ]
     },
     "execution_count": 141,
     "metadata": {},
     "output_type": "execute_result"
    }
   ],
   "source": [
    "distances"
   ]
  },
  {
   "cell_type": "markdown",
   "metadata": {},
   "source": [
    "### Step 2) Sort\n",
    "I can now sort the matrix of distances. I will sort the distances for each row in ascending order.\n"
   ]
  },
  {
   "cell_type": "code",
   "execution_count": 152,
   "metadata": {},
   "outputs": [
    {
     "ename": "KeyError",
     "evalue": "'dict'",
     "output_type": "error",
     "traceback": [
      "\u001b[1;31m---------------------------------------------------------------------------\u001b[0m",
      "\u001b[1;31mKeyError\u001b[0m                                  Traceback (most recent call last)",
      "\u001b[1;32m<ipython-input-152-42b5c638ad2f>\u001b[0m in \u001b[0;36m<module>\u001b[1;34m()\u001b[0m\n\u001b[1;32m----> 1\u001b[1;33m \u001b[0msorted\u001b[0m\u001b[1;33m(\u001b[0m\u001b[0mdistances\u001b[0m\u001b[1;33m,\u001b[0m \u001b[0mkey\u001b[0m\u001b[1;33m=\u001b[0m\u001b[0mdistances\u001b[0m\u001b[1;33m[\u001b[0m\u001b[1;34m'0'\u001b[0m\u001b[1;33m]\u001b[0m\u001b[1;33m[\u001b[0m\u001b[1;34m'0'\u001b[0m\u001b[1;33m]\u001b[0m\u001b[1;33m[\u001b[0m\u001b[1;34m'dict'\u001b[0m\u001b[1;33m]\u001b[0m\u001b[1;33m)\u001b[0m\u001b[1;33m\u001b[0m\u001b[0m\n\u001b[0m",
      "\u001b[1;31mKeyError\u001b[0m: 'dict'"
     ]
    }
   ],
   "source": [
    "sorted(distances, key=distances['0']['0']['dict'])"
   ]
  },
  {
   "cell_type": "markdown",
   "metadata": {},
   "source": [
    "### Step 3) Predict\n",
    "Now I can take the ***K*** nearest points from the test values to predict what number it is.\n",
    "\n",
    "Since the test samples are sorted in ascending order, the ***K*** value will corespond to the number of elements we consider, starting from index 0.\n",
    "\n",
    "Then we can check to see what train samples corespond to each element. Our prediction will be based on which train sample is most prevalent in the set of ***K*** values."
   ]
  },
  {
   "cell_type": "code",
   "execution_count": 21,
   "metadata": {},
   "outputs": [
    {
     "data": {
      "text/plain": [
       "0.0"
      ]
     },
     "execution_count": 21,
     "metadata": {},
     "output_type": "execute_result"
    }
   ],
   "source": [
    "def tally(arr,K):\n",
    "    "
   ]
  },
  {
   "cell_type": "code",
   "execution_count": 34,
   "metadata": {},
   "outputs": [
    {
     "data": {
      "text/plain": [
       "array([ 7.,  1.,  4.,  0.,  4.,  6.,  6.,  6.,  8.,  3.,  4.,  8.,  1.,\n",
       "        0.,  2.,  3.,  7.,  5.,  2.,  1.])"
      ]
     },
     "execution_count": 34,
     "metadata": {},
     "output_type": "execute_result"
    }
   ],
   "source": [
    "y_train"
   ]
  },
  {
   "cell_type": "code",
   "execution_count": 63,
   "metadata": {},
   "outputs": [
    {
     "name": "stdout",
     "output_type": "stream",
     "text": [
      "[[[1, 3, 2, 5, 4]], [[4, 3, 1, 6, 4]]]\n"
     ]
    }
   ],
   "source": [
    "a = [1,3,2,5,4]\n",
    "b = [4,3,1,6,4]\n",
    "c = [[a],[b]]\n",
    "print(c)\n"
   ]
  },
  {
   "cell_type": "code",
   "execution_count": 64,
   "metadata": {},
   "outputs": [
    {
     "data": {
      "text/plain": [
       "array([[[1, 3, 2, 5, 4]],\n",
       "\n",
       "       [[4, 3, 1, 6, 4]]])"
      ]
     },
     "execution_count": 64,
     "metadata": {},
     "output_type": "execute_result"
    }
   ],
   "source": [
    "np.sort(c,axis=1)"
   ]
  },
  {
   "cell_type": "code",
   "execution_count": null,
   "metadata": {
    "collapsed": true
   },
   "outputs": [],
   "source": []
  }
 ],
 "metadata": {
  "kernelspec": {
   "display_name": "Python 3",
   "language": "python",
   "name": "python3"
  },
  "language_info": {
   "codemirror_mode": {
    "name": "ipython",
    "version": 3
   },
   "file_extension": ".py",
   "mimetype": "text/x-python",
   "name": "python",
   "nbconvert_exporter": "python",
   "pygments_lexer": "ipython3",
   "version": "3.6.1"
  }
 },
 "nbformat": 4,
 "nbformat_minor": 2
}
