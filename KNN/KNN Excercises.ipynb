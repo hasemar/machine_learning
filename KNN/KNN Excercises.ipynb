{
 "cells": [
  {
   "cell_type": "markdown",
   "metadata": {},
   "source": [
    "# KNN classifier\n",
    "\n",
    "This exploration was produced using a combination of the Introduction to Statistical Learning (ISLR) book and scikit-learn documentation.\n",
    "\n",
    "The K Nearest Neighbors algorithm is a simple classifier algorithm that predicts the label of a new data point based on the the number of training samples closest to it.  \n",
    "\n",
    "The 3 main steps to this algorithm are as follows:\n",
    "* Calculate the distance from the new point to all the training samples\n",
    "* Sort the samples by distance from the new point\n",
    "* Predict the new point label based on the closest training samples\n",
    "    * The closest samples are based on a user defined parameter ***K***, wich is the number of points used to determine the new point's label\n",
    "    \n",
    "The prediction is made as follows: <sub>(from ISLR: equation 2.12, pg. 39)</sub>\n",
    "$$Pr(Y = j\\mid X = x_o) = \\frac{1}{K}\\sum_{i\\ \\in N_o}I(y_i = j)$$ \n",
    "\n",
    "where: $I$ is the indicator variable, $x_o$ is the new data point, $N_o$ is the set of points closest to the new data point\n",
    "\n",
    "The parameter ***K*** has a dramatic affect on the predicted value.\n",
    "<img src=\"knn_pic.JPG\" alt=\"mouse drawing skills\" title=\"KNN K value example\" />\n",
    "\n",
    "From my graph showing a data set with a new data point inserted in, the difference between selecting a K value of 3 vs. a K value of 6 is shown.  If we were to choose K to equal 3, then the algorithm would choose the new data point to be in the blue class. If we set K equal to 6, then the new point belongs to the green class.\n",
    "\n",
    "Choosing a good K value is of high importance to acheiving a good performing model. Low values of K can be too flexible and create an *overfitted* model. A K that is too high will have a high rate of misclassification. \n",
    "\n",
    "To check for overfitting, the model can be tested against a test set of data, while iteratively changing K\n"
   ]
  },
  {
   "cell_type": "markdown",
   "metadata": {},
   "source": [
    "## MNIST dataset   \n",
    "Since the matlab book uses this dataset with a KNN classifier, I will explore a KNN classifier application here in python. \n",
    "\n",
    "[MNIST dataset website](http://yann.lecun.com/exdb/mnist/)\n",
    "\n",
    "The MNIST dataset is a collection of handwritten numbers.  It has 60 thousand training samples and 10 thousand test examples. The samples are 28x28 px black and white images of numbers.\n",
    "\n",
    "The scikit-learn library has the MNIST dataset built in and provides a way to automatically download it.\n"
   ]
  },
  {
   "cell_type": "code",
   "execution_count": 1,
   "metadata": {
    "collapsed": true
   },
   "outputs": [],
   "source": [
    "import pandas as pd\n",
    "import numpy as np\n",
    "from sklearn import datasets"
   ]
  },
  {
   "cell_type": "code",
   "execution_count": 2,
   "metadata": {
    "collapsed": true
   },
   "outputs": [],
   "source": [
    "mnist_data = datasets.fetch_mldata('MNIST Original')   # pulls data from http://mldata.org/ instead of MNIST website"
   ]
  },
  {
   "cell_type": "code",
   "execution_count": 3,
   "metadata": {},
   "outputs": [
    {
     "name": "stdout",
     "output_type": "stream",
     "text": [
      "data shape (70000, 784)\n",
      "target shape (70000,)\n"
     ]
    }
   ],
   "source": [
    "print('data shape',mnist_data.data.shape)\n",
    "print('target shape',mnist_data.target.shape)"
   ]
  },
  {
   "cell_type": "markdown",
   "metadata": {},
   "source": [
    "This dataset is made up of 70,000 samples of images. The images are in the form of a 1-D array of 774 greyscale values from 0 to 255. It is the result of a flattened 28 x 28 pixel image.\n",
    "\n",
    "I think we can check an image out by reshaping a sample and plotting it."
   ]
  },
  {
   "cell_type": "code",
   "execution_count": 4,
   "metadata": {
    "collapsed": true
   },
   "outputs": [],
   "source": [
    "import matplotlib.pyplot as plt\n",
    "%matplotlib inline"
   ]
  },
  {
   "cell_type": "code",
   "execution_count": 5,
   "metadata": {},
   "outputs": [
    {
     "data": {
      "text/plain": [
       "<matplotlib.text.Text at 0x19dbb0404e0>"
      ]
     },
     "execution_count": 5,
     "metadata": {},
     "output_type": "execute_result"
    },
    {
     "data": {
      "image/png": "[encoded data removed]",
      "text/plain": [
       "<matplotlib.figure.Figure at 0x19dbac6b4e0>"
      ]
     },
     "metadata": {},
     "output_type": "display_data"
    }
   ],
   "source": [
    "n = np.random.randint(0,70000)                       # selecting a random int between 0 and 70k (just for fun)\n",
    "sample_image = mnist_data.data[n].reshape(28,28)     # reshape the first entry as a 28 x 28 matrix\n",
    "plt.imshow(sample_image,cmap='Greys')                # after much trial and tribulation...\n",
    "plt.title('n = ' + str(n))"
   ]
  },
  {
   "cell_type": "markdown",
   "metadata": {},
   "source": [
    "## Building a model\n",
    "I will first try and \"homebrew\" an algorithm to see if I can get any sort of performance from it. My plan is to use the 3 main steps mentioned above, but first I need to split up the data into a test set and a training set.\n",
    "\n",
    "### algorithms within algorithms\n",
    "After reading some the sklearn documentation about KNN, it turns out there are a few different algorithms for determining the distance between observations.  The first and most strait forward is the brute-force method, which literally just takes the difference between each point. This is what I was planning on doing for the homebrew algorithm.  However, the documentation also says that this is only effective for samples of 30 or less.  I have 60,000.\n",
    "\n",
    "I will try to take a set of 30 random samples and implement the homebrew method. "
   ]
  },
  {
   "cell_type": "code",
   "execution_count": 6,
   "metadata": {},
   "outputs": [
    {
     "name": "stdout",
     "output_type": "stream",
     "text": [
      "[[ 0.  0.  0. ...,  0.  0.  0.]\n",
      " [ 0.  0.  0. ...,  0.  0.  0.]\n",
      " [ 0.  0.  0. ...,  0.  0.  0.]\n",
      " ..., \n",
      " [ 0.  0.  0. ...,  0.  0.  0.]\n",
      " [ 0.  0.  0. ...,  0.  0.  0.]\n",
      " [ 0.  0.  0. ...,  0.  0.  0.]]\n",
      "[ 3.  0.  0.  6.  8.  6.  7.  7.  0.  9.  3.  6.  9.  4.  1.  2.  5.  0.\n",
      "  4.  9.  9.  1.  6.  8.  3.  8.  7.  5.  9.  0.]\n"
     ]
    }
   ],
   "source": [
    "toy_X = np.zeros((30,784))\n",
    "toy_y = np.zeros(30)\n",
    "for rows in range(30):\n",
    "    i = np.random.randint(0,60000)\n",
    "    toy_X[rows] = mnist_data.data[i]\n",
    "    toy_y[rows] = mnist_data.target[i]\n",
    "print(toy_X)\n",
    "print(toy_y)\n"
   ]
  },
  {
   "cell_type": "markdown",
   "metadata": {},
   "source": [
    "Sk-learn has a little function that performs a split of the data in a random manner and is standard practice for building ML models in python."
   ]
  },
  {
   "cell_type": "code",
   "execution_count": 7,
   "metadata": {
    "collapsed": true
   },
   "outputs": [],
   "source": [
    "from sklearn.model_selection import train_test_split"
   ]
  },
  {
   "cell_type": "code",
   "execution_count": 8,
   "metadata": {
    "collapsed": true
   },
   "outputs": [],
   "source": [
    "# splitting data up into sets\n",
    "X_train, X_test, y_train, y_test = train_test_split(toy_X, toy_y, test_size=10)"
   ]
  },
  {
   "cell_type": "markdown",
   "metadata": {
    "collapsed": true
   },
   "source": [
    "### Step 1) Distances\n",
    "Calculate the distances between the new point and the training points.\n",
    "\n",
    "Since our observations are not just a scalar value, we cannot simply take the difference between each point. We first have to find the Euclidean distance between each image's \"gray-scale intensity vector\" <--thus deamed\n",
    "\n",
    "The distance is calculated as follows:\n",
    "\n",
    "$d(x,x') = \\sqrt{(x_1-x_1')^2 + (x_2-x_2')^2+...+(x_n-x_n')^2}$\n",
    "\n",
    "where: n = 784 in our case\n",
    "<sub> cite: [How does KNN work?](https://kevinzakka.github.io/2016/07/13/k-nearest-neighbor/)</sub>\n",
    "\n",
    "Since I am using the most simplistic method (brute force) I need to compare my 10 test samples to my 20 train samples.  This will create a  10x20 matrix of distances, where the rows are test samples, and columns are distance from training sample."
   ]
  },
  {
   "cell_type": "code",
   "execution_count": 9,
   "metadata": {
    "collapsed": true
   },
   "outputs": [],
   "source": [
    "# function for euclidean distance\n",
    "def distFun(train,test):\n",
    "    sum = 0\n",
    "    for i in range(len(train)):\n",
    "        sum += (train[i]-test[i])**2\n",
    "    d = np.sqrt(sum)  \n",
    "    return d\n"
   ]
  },
  {
   "cell_type": "code",
   "execution_count": 10,
   "metadata": {
    "collapsed": true
   },
   "outputs": [],
   "source": [
    "# generating a list of dictionaries\n",
    "\n",
    "# create main dictionary\n",
    "distances = {}\n",
    "# create sub dictionary\n",
    "dist = {}\n",
    "for row in range(len(X_test)):          # for each test sample \n",
    "    row_dic = {}                       # create a dictionary for the test samples\n",
    "    for col in range(len(X_train)):     # for each training sample\n",
    "        d = distFun(X_test[row],X_train[col])      # compute the distance from the test sample\n",
    "        key = str(row) + str(col)\n",
    "        row_dic[str(col)] = {'dist':d, 'label':y_train[col]}   # put the distance into a dictionary referencing the train label\n",
    "    distances[str(row)] = row_dic                              # add the dictionaries to a dictionary \n",
    "        \n",
    "        "
   ]
  },
  {
   "cell_type": "markdown",
   "metadata": {},
   "source": [
    "dictionary inception..."
   ]
  },
  {
   "cell_type": "code",
   "execution_count": 39,
   "metadata": {
    "scrolled": false
   },
   "outputs": [
    {
     "data": {
      "text/plain": [
       "dict_keys(['0', '1', '2', '3', '4', '5', '6', '7', '8', '9', '10', '11', '12', '13', '14', '15', '16', '17', '18', '19'])"
      ]
     },
     "execution_count": 39,
     "metadata": {},
     "output_type": "execute_result"
    }
   ],
   "source": [
    "distances['0'].keys()"
   ]
  },
  {
   "cell_type": "code",
   "execution_count": 46,
   "metadata": {},
   "outputs": [
    {
     "name": "stdout",
     "output_type": "stream",
     "text": [
      "2922.60294943 4.0\n",
      "2723.97522015 1.0\n",
      "2620.08091478 1.0\n",
      "2558.44601272 6.0\n",
      "2738.19356511 8.0\n",
      "2291.79842045 6.0\n",
      "2689.26755828 4.0\n",
      "2334.75180694 0.0\n",
      "2651.7420689 5.0\n",
      "2575.23862972 9.0\n",
      "2933.51018406 3.0\n",
      "2580.4363972 0.0\n",
      "2756.11229815 3.0\n",
      "2921.57645801 9.0\n",
      "2654.90263475 0.0\n",
      "2672.82883852 7.0\n",
      "2605.33491129 3.0\n",
      "2237.80025918 6.0\n",
      "2653.17244068 8.0\n",
      "2520.0015873 9.0\n",
      "2424.42570519 4.0\n",
      "2424.98762883 1.0\n",
      "2241.87555408 1.0\n",
      "2695.53445535 6.0\n",
      "2324.99634408 8.0\n",
      "2349.87999694 6.0\n",
      "2304.00520833 4.0\n",
      "2977.91705727 0.0\n",
      "2427.5230174 5.0\n",
      "2113.39347969 9.0\n",
      "2488.06350401 3.0\n",
      "2468.06118239 0.0\n",
      "2535.56601176 3.0\n",
      "2292.83121926 9.0\n",
      "2642.9562993 0.0\n",
      "2164.43618525 7.0\n",
      "2798.77437461 3.0\n",
      "2723.41697138 6.0\n",
      "2498.87974901 8.0\n",
      "1981.49943225 9.0\n",
      "2768.1620256 4.0\n",
      "2435.30778342 1.0\n",
      "2312.88067137 1.0\n",
      "3065.88209167 6.0\n",
      "2377.85596704 8.0\n",
      "2476.5526443 6.0\n",
      "2256.69382061 4.0\n",
      "2888.20722941 0.0\n",
      "2396.83645667 5.0\n",
      "2198.31412678 9.0\n",
      "2466.96595031 3.0\n",
      "2669.49339763 0.0\n",
      "2790.63111142 3.0\n",
      "2286.89571253 9.0\n",
      "2839.60190872 0.0\n",
      "1332.38170207 7.0\n",
      "2713.34019246 3.0\n",
      "2712.74934338 6.0\n",
      "2169.58590519 8.0\n",
      "1998.49118087 9.0\n",
      "3225.08356481 4.0\n",
      "2649.84999575 1.0\n",
      "2860.07587312 1.0\n",
      "2399.78249014 6.0\n",
      "2769.25296786 8.0\n",
      "2739.86021541 6.0\n",
      "2674.54070823 4.0\n",
      "2953.37975885 0.0\n",
      "2797.85239067 5.0\n",
      "3132.08109729 9.0\n",
      "2898.34159477 3.0\n",
      "3025.27750793 0.0\n",
      "2709.50346005 3.0\n",
      "3009.55162773 9.0\n",
      "3196.18679054 0.0\n",
      "2954.90372094 7.0\n",
      "2807.73289328 3.0\n",
      "2766.57369322 6.0\n",
      "2738.02666167 8.0\n",
      "2868.10006799 9.0\n",
      "2590.84194809 4.0\n",
      "2693.3200701 1.0\n",
      "2344.22225909 1.0\n",
      "3106.02543454 6.0\n",
      "2514.67890594 8.0\n",
      "2426.35817636 6.0\n",
      "2621.21994499 4.0\n",
      "2877.50134665 0.0\n",
      "2418.03225785 5.0\n",
      "2040.25390577 9.0\n",
      "2582.14523217 3.0\n",
      "2632.72976205 0.0\n",
      "2632.012348 3.0\n",
      "2695.01001853 9.0\n",
      "2804.37907566 0.0\n",
      "2385.67642399 7.0\n",
      "2929.97372002 3.0\n",
      "2756.75860387 6.0\n",
      "2635.3671471 8.0\n",
      "2402.72220617 9.0\n",
      "2366.63178378 4.0\n",
      "2975.05915908 1.0\n",
      "2820.50101932 1.0\n",
      "3066.70115923 6.0\n",
      "2897.23109192 8.0\n",
      "2780.24819036 6.0\n",
      "2728.27894468 4.0\n",
      "2867.03923935 0.0\n",
      "2779.90683297 5.0\n",
      "2324.17340145 9.0\n",
      "2793.04171111 3.0\n",
      "2660.83370394 0.0\n",
      "3076.42796113 3.0\n",
      "2726.13224184 9.0\n",
      "2918.2731195 0.0\n",
      "2530.66433965 7.0\n",
      "2982.11066193 3.0\n",
      "2768.34101946 6.0\n",
      "2702.93951098 8.0\n",
      "2767.7084384 9.0\n",
      "2691.47004442 4.0\n",
      "2537.81086766 1.0\n",
      "2624.51424077 1.0\n",
      "2911.33354324 6.0\n",
      "2623.30535775 8.0\n",
      "2667.07948888 6.0\n",
      "2439.34560897 4.0\n",
      "3042.42419791 0.0\n",
      "2620.57570011 5.0\n",
      "2286.24430016 9.0\n",
      "2744.24251844 3.0\n",
      "2561.33422263 0.0\n",
      "2885.20363233 3.0\n",
      "2589.22768408 9.0\n",
      "2877.79585794 0.0\n",
      "1986.16086962 7.0\n",
      "3024.50706728 3.0\n",
      "2776.32076677 6.0\n",
      "2382.47959068 8.0\n",
      "2467.54999949 9.0\n",
      "2570.81154502 4.0\n",
      "2413.20761643 1.0\n",
      "2299.60387893 1.0\n",
      "2624.675218 6.0\n",
      "2421.003924 8.0\n",
      "2172.23065074 6.0\n",
      "2230.22599752 4.0\n",
      "2490.74125513 0.0\n",
      "2131.50510203 5.0\n",
      "2153.58213217 9.0\n",
      "2564.18486073 3.0\n",
      "2126.08795679 0.0\n",
      "2385.7344781 3.0\n",
      "2122.07940473 9.0\n",
      "2330.49565543 0.0\n",
      "2355.89048981 7.0\n",
      "2677.15931539 3.0\n",
      "2123.02520004 6.0\n",
      "2387.63648825 8.0\n",
      "2188.07449599 9.0\n",
      "2877.83616629 4.0\n",
      "2529.73397811 1.0\n",
      "2489.65600033 1.0\n",
      "2765.24700524 6.0\n",
      "2619.60206902 8.0\n",
      "2630.88027094 6.0\n",
      "2508.16127871 4.0\n",
      "2633.08583225 0.0\n",
      "2646.8840171 5.0\n",
      "2434.9843942 9.0\n",
      "2707.54852219 3.0\n",
      "2217.77298207 0.0\n",
      "2377.44358503 3.0\n",
      "1863.97693119 9.0\n",
      "2652.50051838 0.0\n",
      "2590.39089714 7.0\n",
      "2234.70199356 3.0\n",
      "2505.3045723 6.0\n",
      "2512.55626803 8.0\n",
      "2360.38068963 9.0\n",
      "3403.09153565 4.0\n",
      "3150.31442875 1.0\n",
      "3228.34106005 1.0\n",
      "3177.48548384 6.0\n",
      "2929.41120364 8.0\n",
      "3150.9087578 6.0\n",
      "2957.66901461 4.0\n",
      "2557.53005847 0.0\n",
      "3049.85147179 5.0\n",
      "3086.37554423 9.0\n",
      "3495.36578916 3.0\n",
      "2371.06811374 0.0\n",
      "2701.02554597 3.0\n",
      "3191.19178364 9.0\n",
      "2174.38589031 0.0\n",
      "2928.128754 7.0\n",
      "2838.12191422 3.0\n",
      "2732.70671679 6.0\n",
      "3086.19895665 8.0\n",
      "3084.46883596 9.0\n"
     ]
    }
   ],
   "source": [
    "for test in distances.keys():\n",
    "    for train in distances[test].keys():\n",
    "        print(distances[test][train]['dist'], distances[test][train]['label'])"
   ]
  },
  {
   "cell_type": "markdown",
   "metadata": {},
   "source": [
    "### Step 2) Sort\n",
    "I can now sort the matrix of distances. I will sort the distances for each row in ascending order.\n"
   ]
  },
  {
   "cell_type": "code",
   "execution_count": 152,
   "metadata": {},
   "outputs": [
    {
     "ename": "KeyError",
     "evalue": "'dict'",
     "output_type": "error",
     "traceback": [
      "\u001b[1;31m---------------------------------------------------------------------------\u001b[0m",
      "\u001b[1;31mKeyError\u001b[0m                                  Traceback (most recent call last)",
      "\u001b[1;32m<ipython-input-152-42b5c638ad2f>\u001b[0m in \u001b[0;36m<module>\u001b[1;34m()\u001b[0m\n\u001b[1;32m----> 1\u001b[1;33m \u001b[0msorted\u001b[0m\u001b[1;33m(\u001b[0m\u001b[0mdistances\u001b[0m\u001b[1;33m,\u001b[0m \u001b[0mkey\u001b[0m\u001b[1;33m=\u001b[0m\u001b[0mdistances\u001b[0m\u001b[1;33m[\u001b[0m\u001b[1;34m'0'\u001b[0m\u001b[1;33m]\u001b[0m\u001b[1;33m[\u001b[0m\u001b[1;34m'0'\u001b[0m\u001b[1;33m]\u001b[0m\u001b[1;33m[\u001b[0m\u001b[1;34m'dict'\u001b[0m\u001b[1;33m]\u001b[0m\u001b[1;33m)\u001b[0m\u001b[1;33m\u001b[0m\u001b[0m\n\u001b[0m",
      "\u001b[1;31mKeyError\u001b[0m: 'dict'"
     ]
    }
   ],
   "source": [
    "sorted(distances, key=distances['0']['0']['dict'])"
   ]
  },
  {
   "cell_type": "markdown",
   "metadata": {},
   "source": [
    "### Step 3) Predict\n",
    "Now I can take the ***K*** nearest points from the test values to predict what number it is.\n",
    "\n",
    "Since the test samples are sorted in ascending order, the ***K*** value will corespond to the number of elements we consider, starting from index 0.\n",
    "\n",
    "Then we can check to see what train samples corespond to each element. Our prediction will be based on which train sample is most prevalent in the set of ***K*** values."
   ]
  },
  {
   "cell_type": "code",
   "execution_count": 21,
   "metadata": {},
   "outputs": [
    {
     "data": {
      "text/plain": [
       "0.0"
      ]
     },
     "execution_count": 21,
     "metadata": {},
     "output_type": "execute_result"
    }
   ],
   "source": [
    "def tally(arr,K):\n",
    "    "
   ]
  },
  {
   "cell_type": "code",
   "execution_count": 34,
   "metadata": {},
   "outputs": [
    {
     "data": {
      "text/plain": [
       "array([ 7.,  1.,  4.,  0.,  4.,  6.,  6.,  6.,  8.,  3.,  4.,  8.,  1.,\n",
       "        0.,  2.,  3.,  7.,  5.,  2.,  1.])"
      ]
     },
     "execution_count": 34,
     "metadata": {},
     "output_type": "execute_result"
    }
   ],
   "source": [
    "y_train"
   ]
  },
  {
   "cell_type": "code",
   "execution_count": 63,
   "metadata": {},
   "outputs": [
    {
     "name": "stdout",
     "output_type": "stream",
     "text": [
      "[[[1, 3, 2, 5, 4]], [[4, 3, 1, 6, 4]]]\n"
     ]
    }
   ],
   "source": [
    "a = [1,3,2,5,4]\n",
    "b = [4,3,1,6,4]\n",
    "c = [[a],[b]]\n",
    "print(c)\n"
   ]
  },
  {
   "cell_type": "code",
   "execution_count": 64,
   "metadata": {},
   "outputs": [
    {
     "data": {
      "text/plain": [
       "array([[[1, 3, 2, 5, 4]],\n",
       "\n",
       "       [[4, 3, 1, 6, 4]]])"
      ]
     },
     "execution_count": 64,
     "metadata": {},
     "output_type": "execute_result"
    }
   ],
   "source": [
    "np.sort(c,axis=1)"
   ]
  },
  {
   "cell_type": "code",
   "execution_count": null,
   "metadata": {
    "collapsed": true
   },
   "outputs": [],
   "source": []
  }
 ],
 "metadata": {
  "kernelspec": {
   "display_name": "Python 3",
   "language": "python",
   "name": "python3"
  },
  "language_info": {
   "codemirror_mode": {
    "name": "ipython",
    "version": 3
   },
   "file_extension": ".py",
   "mimetype": "text/x-python",
   "name": "python",
   "nbconvert_exporter": "python",
   "pygments_lexer": "ipython3",
   "version": "3.6.1"
  }
 },
 "nbformat": 4,
 "nbformat_minor": 2
}
