{
 "cells": [
  {
   "cell_type": "code",
   "execution_count": 1,
   "metadata": {
    "collapsed": true
   },
   "outputs": [],
   "source": [
    "import numpy as np\n",
    "import pandas as pd"
   ]
  },
  {
   "cell_type": "markdown",
   "metadata": {},
   "source": [
    "We want to create a population where 10% of the people have a sensitivity to some specific food. First we will create a dataframe of  n users under a binomial distribution."
   ]
  },
  {
   "cell_type": "code",
   "execution_count": 21,
   "metadata": {
    "collapsed": true
   },
   "outputs": [],
   "source": [
    "n = 100    # population size\n",
    "p = 0.05    # probability person has a food sensitivity\n",
    "user_id = np.arange(n)    # user id array"
   ]
  },
  {
   "cell_type": "markdown",
   "metadata": {},
   "source": [
    "We will create a list of foods. If a person has a food sensitivity we will randomly select (from a uniform distribution) which food they are sensitive to."
   ]
  },
  {
   "cell_type": "code",
   "execution_count": 22,
   "metadata": {
    "collapsed": true
   },
   "outputs": [],
   "source": [
    "x = np.random.binomial(1,p,size = n)  # this x array will trigger which person has a food sensitivity \n",
    "food_list = ['wheat','corn','dairy','beef','chicken','rice','apple','potatoes','broccoli','carrots'] "
   ]
  },
  {
   "cell_type": "code",
   "execution_count": 23,
   "metadata": {
    "collapsed": true
   },
   "outputs": [],
   "source": [
    "target = []\n",
    "for items in x:\n",
    "    if items == 1:\n",
    "        target.append(food_list[np.random.randint(len(food_list))])\n",
    "    else:\n",
    "        target.append('none')"
   ]
  },
  {
   "cell_type": "markdown",
   "metadata": {},
   "source": [
    "### distribution of ratings based on sensitivity to specific food\n",
    "Now that we have a list of foods and a food that the user is sensitive to we will distribute \"wellness\" ratings based on the food eaten.  For now all users have eaten all foods \n"
   ]
  },
  {
   "cell_type": "code",
   "execution_count": 25,
   "metadata": {
    "collapsed": true
   },
   "outputs": [],
   "source": [
    "    poss_ratings = np.arange(1,6)  # create ratings 1-5\n",
    "    none_likely = 3                # likelihood of rating if not sensitive\n",
    "    sense_likely = 2               # likelihood of raiting if sensitive\n",
    "    how_likely = 3                 # how much more likely\n",
    "    total = len(poss_ratings) + how_likely-1\n",
    "    \n",
    "    # probability arrays for sensitive and not sensitive\n",
    "    prob_none = [1/total if x != none_likely else how_likely/total for x in poss_ratings ]  \n",
    "    prob_sens = [1/total if x != sense_likely else how_likely/total for x in poss_ratings]"
   ]
  },
  {
   "cell_type": "code",
   "execution_count": 26,
   "metadata": {
    "collapsed": true
   },
   "outputs": [],
   "source": [
    "def rate_it(food,food_list):\n",
    "    \"\"\"\n",
    "    Creates an array of ratings based on a weighted probability of choosing a specific rating\n",
    "    1. food = food that user is sensitive to\n",
    "    2. food_list = list of foods available to eat\n",
    "         - compare food to food list\n",
    "         - if food is on the list chose from the sensitivity probability array for making a rating\n",
    "         - else chose from the none probability array for making a rating\n",
    "    \"\"\"\n",
    "    ratings = []\n",
    "    for items in food_list:\n",
    "        if items == food:\n",
    "            ratings.append(np.random.choice(poss_ratings,p=prob_sens))\n",
    "        else:\n",
    "            ratings.append(np.random.choice(poss_ratings,p=prob_none))\n",
    "    \n",
    "    return ratings"
   ]
  },
  {
   "cell_type": "markdown",
   "metadata": {},
   "source": [
    "Create a user ratings matrix   (this is super slow, need more efficient way of doing this)"
   ]
  },
  {
   "cell_type": "code",
   "execution_count": 27,
   "metadata": {},
   "outputs": [],
   "source": [
    "user_ratings = []\n",
    "for user in user_id:\n",
    "    for food in target:\n",
    "        ratings = rate_it(food,food_list)\n",
    "    user_ratings.append(ratings)\n",
    "    "
   ]
  },
  {
   "cell_type": "markdown",
   "metadata": {},
   "source": [
    "And Finally, create a dataframe of user food ratings"
   ]
  },
  {
   "cell_type": "code",
   "execution_count": 28,
   "metadata": {},
   "outputs": [],
   "source": [
    "user_data = pd.DataFrame(data=user_ratings, index= user_id, columns=food_list)\n",
    "user_data['target'] = target"
   ]
  },
  {
   "cell_type": "code",
   "execution_count": 29,
   "metadata": {},
   "outputs": [
    {
     "data": {
      "text/html": [
       "<div>\n",
       "<style>\n",
       "    .dataframe thead tr:only-child th {\n",
       "        text-align: right;\n",
       "    }\n",
       "\n",
       "    .dataframe thead th {\n",
       "        text-align: left;\n",
       "    }\n",
       "\n",
       "    .dataframe tbody tr th {\n",
       "        vertical-align: top;\n",
       "    }\n",
       "</style>\n",
       "<table border=\"1\" class=\"dataframe\">\n",
       "  <thead>\n",
       "    <tr style=\"text-align: right;\">\n",
       "      <th></th>\n",
       "      <th>wheat</th>\n",
       "      <th>corn</th>\n",
       "      <th>dairy</th>\n",
       "      <th>beef</th>\n",
       "      <th>chicken</th>\n",
       "      <th>rice</th>\n",
       "      <th>apple</th>\n",
       "      <th>potatoes</th>\n",
       "      <th>broccoli</th>\n",
       "      <th>carrots</th>\n",
       "      <th>target</th>\n",
       "    </tr>\n",
       "  </thead>\n",
       "  <tbody>\n",
       "    <tr>\n",
       "      <th>0</th>\n",
       "      <td>3</td>\n",
       "      <td>3</td>\n",
       "      <td>3</td>\n",
       "      <td>3</td>\n",
       "      <td>4</td>\n",
       "      <td>2</td>\n",
       "      <td>1</td>\n",
       "      <td>3</td>\n",
       "      <td>4</td>\n",
       "      <td>2</td>\n",
       "      <td>none</td>\n",
       "    </tr>\n",
       "    <tr>\n",
       "      <th>1</th>\n",
       "      <td>3</td>\n",
       "      <td>2</td>\n",
       "      <td>5</td>\n",
       "      <td>4</td>\n",
       "      <td>3</td>\n",
       "      <td>2</td>\n",
       "      <td>1</td>\n",
       "      <td>1</td>\n",
       "      <td>2</td>\n",
       "      <td>3</td>\n",
       "      <td>none</td>\n",
       "    </tr>\n",
       "    <tr>\n",
       "      <th>2</th>\n",
       "      <td>4</td>\n",
       "      <td>4</td>\n",
       "      <td>3</td>\n",
       "      <td>5</td>\n",
       "      <td>2</td>\n",
       "      <td>4</td>\n",
       "      <td>1</td>\n",
       "      <td>1</td>\n",
       "      <td>2</td>\n",
       "      <td>3</td>\n",
       "      <td>none</td>\n",
       "    </tr>\n",
       "    <tr>\n",
       "      <th>3</th>\n",
       "      <td>3</td>\n",
       "      <td>2</td>\n",
       "      <td>3</td>\n",
       "      <td>5</td>\n",
       "      <td>3</td>\n",
       "      <td>3</td>\n",
       "      <td>3</td>\n",
       "      <td>5</td>\n",
       "      <td>4</td>\n",
       "      <td>1</td>\n",
       "      <td>none</td>\n",
       "    </tr>\n",
       "    <tr>\n",
       "      <th>4</th>\n",
       "      <td>4</td>\n",
       "      <td>3</td>\n",
       "      <td>3</td>\n",
       "      <td>3</td>\n",
       "      <td>3</td>\n",
       "      <td>3</td>\n",
       "      <td>4</td>\n",
       "      <td>4</td>\n",
       "      <td>5</td>\n",
       "      <td>1</td>\n",
       "      <td>none</td>\n",
       "    </tr>\n",
       "  </tbody>\n",
       "</table>\n",
       "</div>"
      ],
      "text/plain": [
       "   wheat  corn  dairy  beef  chicken  rice  apple  potatoes  broccoli  \\\n",
       "0      3     3      3     3        4     2      1         3         4   \n",
       "1      3     2      5     4        3     2      1         1         2   \n",
       "2      4     4      3     5        2     4      1         1         2   \n",
       "3      3     2      3     5        3     3      3         5         4   \n",
       "4      4     3      3     3        3     3      4         4         5   \n",
       "\n",
       "   carrots target  \n",
       "0        2   none  \n",
       "1        3   none  \n",
       "2        3   none  \n",
       "3        1   none  \n",
       "4        1   none  "
      ]
     },
     "execution_count": 29,
     "metadata": {},
     "output_type": "execute_result"
    }
   ],
   "source": [
    "user_data.head()"
   ]
  },
  {
   "cell_type": "code",
   "execution_count": 30,
   "metadata": {},
   "outputs": [
    {
     "data": {
      "text/html": [
       "<div>\n",
       "<style>\n",
       "    .dataframe thead tr:only-child th {\n",
       "        text-align: right;\n",
       "    }\n",
       "\n",
       "    .dataframe thead th {\n",
       "        text-align: left;\n",
       "    }\n",
       "\n",
       "    .dataframe tbody tr th {\n",
       "        vertical-align: top;\n",
       "    }\n",
       "</style>\n",
       "<table border=\"1\" class=\"dataframe\">\n",
       "  <thead>\n",
       "    <tr style=\"text-align: right;\">\n",
       "      <th></th>\n",
       "      <th>wheat</th>\n",
       "      <th>corn</th>\n",
       "      <th>dairy</th>\n",
       "      <th>beef</th>\n",
       "      <th>chicken</th>\n",
       "      <th>rice</th>\n",
       "      <th>apple</th>\n",
       "      <th>potatoes</th>\n",
       "      <th>broccoli</th>\n",
       "      <th>carrots</th>\n",
       "    </tr>\n",
       "  </thead>\n",
       "  <tbody>\n",
       "    <tr>\n",
       "      <th>count</th>\n",
       "      <td>100.000000</td>\n",
       "      <td>100.00000</td>\n",
       "      <td>100.000000</td>\n",
       "      <td>100.000000</td>\n",
       "      <td>100.000000</td>\n",
       "      <td>100.000000</td>\n",
       "      <td>100.00000</td>\n",
       "      <td>100.000000</td>\n",
       "      <td>100.000000</td>\n",
       "      <td>100.000000</td>\n",
       "    </tr>\n",
       "    <tr>\n",
       "      <th>mean</th>\n",
       "      <td>3.140000</td>\n",
       "      <td>2.79000</td>\n",
       "      <td>2.840000</td>\n",
       "      <td>2.880000</td>\n",
       "      <td>3.090000</td>\n",
       "      <td>2.880000</td>\n",
       "      <td>2.99000</td>\n",
       "      <td>2.910000</td>\n",
       "      <td>2.950000</td>\n",
       "      <td>2.850000</td>\n",
       "    </tr>\n",
       "    <tr>\n",
       "      <th>std</th>\n",
       "      <td>1.247381</td>\n",
       "      <td>1.19168</td>\n",
       "      <td>1.228615</td>\n",
       "      <td>1.273506</td>\n",
       "      <td>1.181465</td>\n",
       "      <td>1.216719</td>\n",
       "      <td>1.27521</td>\n",
       "      <td>1.172884</td>\n",
       "      <td>1.166667</td>\n",
       "      <td>1.175293</td>\n",
       "    </tr>\n",
       "    <tr>\n",
       "      <th>min</th>\n",
       "      <td>1.000000</td>\n",
       "      <td>1.00000</td>\n",
       "      <td>1.000000</td>\n",
       "      <td>1.000000</td>\n",
       "      <td>1.000000</td>\n",
       "      <td>1.000000</td>\n",
       "      <td>1.00000</td>\n",
       "      <td>1.000000</td>\n",
       "      <td>1.000000</td>\n",
       "      <td>1.000000</td>\n",
       "    </tr>\n",
       "    <tr>\n",
       "      <th>25%</th>\n",
       "      <td>2.000000</td>\n",
       "      <td>2.00000</td>\n",
       "      <td>2.000000</td>\n",
       "      <td>2.000000</td>\n",
       "      <td>2.750000</td>\n",
       "      <td>2.000000</td>\n",
       "      <td>2.00000</td>\n",
       "      <td>2.000000</td>\n",
       "      <td>2.000000</td>\n",
       "      <td>2.000000</td>\n",
       "    </tr>\n",
       "    <tr>\n",
       "      <th>50%</th>\n",
       "      <td>3.000000</td>\n",
       "      <td>3.00000</td>\n",
       "      <td>3.000000</td>\n",
       "      <td>3.000000</td>\n",
       "      <td>3.000000</td>\n",
       "      <td>3.000000</td>\n",
       "      <td>3.00000</td>\n",
       "      <td>3.000000</td>\n",
       "      <td>3.000000</td>\n",
       "      <td>3.000000</td>\n",
       "    </tr>\n",
       "    <tr>\n",
       "      <th>75%</th>\n",
       "      <td>4.000000</td>\n",
       "      <td>3.00000</td>\n",
       "      <td>4.000000</td>\n",
       "      <td>3.250000</td>\n",
       "      <td>4.000000</td>\n",
       "      <td>4.000000</td>\n",
       "      <td>4.00000</td>\n",
       "      <td>3.000000</td>\n",
       "      <td>4.000000</td>\n",
       "      <td>3.000000</td>\n",
       "    </tr>\n",
       "    <tr>\n",
       "      <th>max</th>\n",
       "      <td>5.000000</td>\n",
       "      <td>5.00000</td>\n",
       "      <td>5.000000</td>\n",
       "      <td>5.000000</td>\n",
       "      <td>5.000000</td>\n",
       "      <td>5.000000</td>\n",
       "      <td>5.00000</td>\n",
       "      <td>5.000000</td>\n",
       "      <td>5.000000</td>\n",
       "      <td>5.000000</td>\n",
       "    </tr>\n",
       "  </tbody>\n",
       "</table>\n",
       "</div>"
      ],
      "text/plain": [
       "            wheat       corn       dairy        beef     chicken        rice  \\\n",
       "count  100.000000  100.00000  100.000000  100.000000  100.000000  100.000000   \n",
       "mean     3.140000    2.79000    2.840000    2.880000    3.090000    2.880000   \n",
       "std      1.247381    1.19168    1.228615    1.273506    1.181465    1.216719   \n",
       "min      1.000000    1.00000    1.000000    1.000000    1.000000    1.000000   \n",
       "25%      2.000000    2.00000    2.000000    2.000000    2.750000    2.000000   \n",
       "50%      3.000000    3.00000    3.000000    3.000000    3.000000    3.000000   \n",
       "75%      4.000000    3.00000    4.000000    3.250000    4.000000    4.000000   \n",
       "max      5.000000    5.00000    5.000000    5.000000    5.000000    5.000000   \n",
       "\n",
       "           apple    potatoes    broccoli     carrots  \n",
       "count  100.00000  100.000000  100.000000  100.000000  \n",
       "mean     2.99000    2.910000    2.950000    2.850000  \n",
       "std      1.27521    1.172884    1.166667    1.175293  \n",
       "min      1.00000    1.000000    1.000000    1.000000  \n",
       "25%      2.00000    2.000000    2.000000    2.000000  \n",
       "50%      3.00000    3.000000    3.000000    3.000000  \n",
       "75%      4.00000    3.000000    4.000000    3.000000  \n",
       "max      5.00000    5.000000    5.000000    5.000000  "
      ]
     },
     "execution_count": 30,
     "metadata": {},
     "output_type": "execute_result"
    }
   ],
   "source": [
    "user_data.describe()"
   ]
  },
  {
   "cell_type": "code",
   "execution_count": 31,
   "metadata": {},
   "outputs": [
    {
     "data": {
      "text/html": [
       "<div>\n",
       "<style>\n",
       "    .dataframe thead tr:only-child th {\n",
       "        text-align: right;\n",
       "    }\n",
       "\n",
       "    .dataframe thead th {\n",
       "        text-align: left;\n",
       "    }\n",
       "\n",
       "    .dataframe tbody tr th {\n",
       "        vertical-align: top;\n",
       "    }\n",
       "</style>\n",
       "<table border=\"1\" class=\"dataframe\">\n",
       "  <thead>\n",
       "    <tr style=\"text-align: right;\">\n",
       "      <th></th>\n",
       "      <th>wheat</th>\n",
       "      <th>corn</th>\n",
       "      <th>dairy</th>\n",
       "      <th>beef</th>\n",
       "      <th>chicken</th>\n",
       "      <th>rice</th>\n",
       "      <th>apple</th>\n",
       "      <th>potatoes</th>\n",
       "      <th>broccoli</th>\n",
       "      <th>carrots</th>\n",
       "    </tr>\n",
       "    <tr>\n",
       "      <th>target</th>\n",
       "      <th></th>\n",
       "      <th></th>\n",
       "      <th></th>\n",
       "      <th></th>\n",
       "      <th></th>\n",
       "      <th></th>\n",
       "      <th></th>\n",
       "      <th></th>\n",
       "      <th></th>\n",
       "      <th></th>\n",
       "    </tr>\n",
       "  </thead>\n",
       "  <tbody>\n",
       "    <tr>\n",
       "      <th>beef</th>\n",
       "      <td>3.0</td>\n",
       "      <td>5.000000</td>\n",
       "      <td>5.000000</td>\n",
       "      <td>5.000000</td>\n",
       "      <td>3.000000</td>\n",
       "      <td>4.000000</td>\n",
       "      <td>3.000000</td>\n",
       "      <td>5.000000</td>\n",
       "      <td>1.000000</td>\n",
       "      <td>5.000000</td>\n",
       "    </tr>\n",
       "    <tr>\n",
       "      <th>broccoli</th>\n",
       "      <td>2.0</td>\n",
       "      <td>1.500000</td>\n",
       "      <td>3.000000</td>\n",
       "      <td>3.000000</td>\n",
       "      <td>5.000000</td>\n",
       "      <td>2.500000</td>\n",
       "      <td>3.000000</td>\n",
       "      <td>2.500000</td>\n",
       "      <td>2.500000</td>\n",
       "      <td>3.000000</td>\n",
       "    </tr>\n",
       "    <tr>\n",
       "      <th>corn</th>\n",
       "      <td>1.0</td>\n",
       "      <td>2.000000</td>\n",
       "      <td>4.000000</td>\n",
       "      <td>2.000000</td>\n",
       "      <td>3.000000</td>\n",
       "      <td>4.000000</td>\n",
       "      <td>4.000000</td>\n",
       "      <td>3.000000</td>\n",
       "      <td>5.000000</td>\n",
       "      <td>2.000000</td>\n",
       "    </tr>\n",
       "    <tr>\n",
       "      <th>dairy</th>\n",
       "      <td>2.0</td>\n",
       "      <td>5.000000</td>\n",
       "      <td>5.000000</td>\n",
       "      <td>2.000000</td>\n",
       "      <td>5.000000</td>\n",
       "      <td>3.000000</td>\n",
       "      <td>3.000000</td>\n",
       "      <td>3.000000</td>\n",
       "      <td>4.000000</td>\n",
       "      <td>4.000000</td>\n",
       "    </tr>\n",
       "    <tr>\n",
       "      <th>none</th>\n",
       "      <td>3.2</td>\n",
       "      <td>2.778947</td>\n",
       "      <td>2.778947</td>\n",
       "      <td>2.873684</td>\n",
       "      <td>3.031579</td>\n",
       "      <td>2.863158</td>\n",
       "      <td>2.978947</td>\n",
       "      <td>2.894737</td>\n",
       "      <td>2.947368</td>\n",
       "      <td>2.821053</td>\n",
       "    </tr>\n",
       "  </tbody>\n",
       "</table>\n",
       "</div>"
      ],
      "text/plain": [
       "          wheat      corn     dairy      beef   chicken      rice     apple  \\\n",
       "target                                                                        \n",
       "beef        3.0  5.000000  5.000000  5.000000  3.000000  4.000000  3.000000   \n",
       "broccoli    2.0  1.500000  3.000000  3.000000  5.000000  2.500000  3.000000   \n",
       "corn        1.0  2.000000  4.000000  2.000000  3.000000  4.000000  4.000000   \n",
       "dairy       2.0  5.000000  5.000000  2.000000  5.000000  3.000000  3.000000   \n",
       "none        3.2  2.778947  2.778947  2.873684  3.031579  2.863158  2.978947   \n",
       "\n",
       "          potatoes  broccoli   carrots  \n",
       "target                                  \n",
       "beef      5.000000  1.000000  5.000000  \n",
       "broccoli  2.500000  2.500000  3.000000  \n",
       "corn      3.000000  5.000000  2.000000  \n",
       "dairy     3.000000  4.000000  4.000000  \n",
       "none      2.894737  2.947368  2.821053  "
      ]
     },
     "execution_count": 31,
     "metadata": {},
     "output_type": "execute_result"
    }
   ],
   "source": [
    "# show the average rating for each target sensitivity\n",
    "by_targ = user_data.groupby('target')\n",
    "by_targ.mean()"
   ]
  },
  {
   "cell_type": "markdown",
   "metadata": {},
   "source": [
    " Hmmm, somethings amiss..."
   ]
  },
  {
   "cell_type": "code",
   "execution_count": 32,
   "metadata": {},
   "outputs": [
    {
     "data": {
      "text/plain": [
       "'C:\\\\Users\\\\hasem\\\\Documents\\\\Python Scripts\\\\DataSci_class\\\\Python-Data-Science-and-Machine-Learning-Bootcamp\\\\Machine Learning Sections\\\\Recommender-Systems'"
      ]
     },
     "execution_count": 32,
     "metadata": {},
     "output_type": "execute_result"
    }
   ],
   "source": [
    "pwd"
   ]
  },
  {
   "cell_type": "code",
   "execution_count": null,
   "metadata": {
    "collapsed": true
   },
   "outputs": [],
   "source": []
  }
 ],
 "metadata": {
  "kernelspec": {
   "display_name": "Python 3",
   "language": "python",
   "name": "python3"
  },
  "language_info": {
   "codemirror_mode": {
    "name": "ipython",
    "version": 3
   },
   "file_extension": ".py",
   "mimetype": "text/x-python",
   "name": "python",
   "nbconvert_exporter": "python",
   "pygments_lexer": "ipython3",
   "version": "3.6.1"
  }
 },
 "nbformat": 4,
 "nbformat_minor": 2
}
